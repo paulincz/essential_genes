{
 "cells": [
  {
   "cell_type": "code",
   "execution_count": 1,
   "metadata": {},
   "outputs": [],
   "source": [
    "import re\n",
    "from sklearn.model_selection import train_test_split\n",
    "import numpy as np\n",
    "import DNA_mom_inertia as inertia\n",
    "import complexity_and_entropy as c_and_e\n",
    "import time\n",
    "from Bio.SeqUtils import CodonUsage as bio"
   ]
  },
  {
   "cell_type": "markdown",
   "metadata": {},
   "source": [
    "# Preprocessing"
   ]
  },
  {
   "cell_type": "code",
   "execution_count": 2,
   "metadata": {},
   "outputs": [],
   "source": [
    "with open('essentials/fasta_essentials_nt.dat','r') as f:\n",
    "    e_file = f.read()"
   ]
  },
  {
   "cell_type": "code",
   "execution_count": 3,
   "metadata": {},
   "outputs": [
    {
     "data": {
      "text/plain": [
       "19836083"
      ]
     },
     "execution_count": 3,
     "metadata": {},
     "output_type": "execute_result"
    }
   ],
   "source": [
    "len(e_file)"
   ]
  },
  {
   "cell_type": "code",
   "execution_count": 4,
   "metadata": {},
   "outputs": [],
   "source": [
    "x = re.split('>(DEG\\d+)\\n([ATGC\\n]+)', e_file)"
   ]
  },
  {
   "cell_type": "code",
   "execution_count": 5,
   "metadata": {},
   "outputs": [],
   "source": [
    "v = [i.replace('\\n','') for i in x]"
   ]
  },
  {
   "cell_type": "code",
   "execution_count": 6,
   "metadata": {},
   "outputs": [],
   "source": [
    "e_names = []\n",
    "e_seq = []\n",
    "\n",
    "for i in v:\n",
    "    match1= re.search('^[ATGC]+$',i)\n",
    "    match2= re.search('>?DEG',i)\n",
    "    if match2:\n",
    "        if not 'available' in i:\n",
    "            e_names.append(i)\n",
    "    else:\n",
    "        if match1:\n",
    "            e_seq.append(i)"
   ]
  },
  {
   "cell_type": "code",
   "execution_count": 7,
   "metadata": {},
   "outputs": [
    {
     "data": {
      "text/plain": [
       "18775"
      ]
     },
     "execution_count": 7,
     "metadata": {},
     "output_type": "execute_result"
    }
   ],
   "source": [
    "len(e_names)"
   ]
  },
  {
   "cell_type": "code",
   "execution_count": 8,
   "metadata": {},
   "outputs": [
    {
     "data": {
      "text/plain": [
       "18775"
      ]
     },
     "execution_count": 8,
     "metadata": {},
     "output_type": "execute_result"
    }
   ],
   "source": [
    "len(e_seq)"
   ]
  },
  {
   "cell_type": "code",
   "execution_count": 9,
   "metadata": {},
   "outputs": [],
   "source": [
    "with open('nonessentials/nonessentials_nt.dat','r') as f1:\n",
    "    n_file = f1.read()"
   ]
  },
  {
   "cell_type": "code",
   "execution_count": 10,
   "metadata": {},
   "outputs": [
    {
     "data": {
      "text/plain": [
       "125451473"
      ]
     },
     "execution_count": 10,
     "metadata": {},
     "output_type": "execute_result"
    }
   ],
   "source": [
    "len(n_file)"
   ]
  },
  {
   "cell_type": "code",
   "execution_count": 11,
   "metadata": {},
   "outputs": [],
   "source": [
    "x2 = re.split('>(DNEG\\d+)\\n([ATGC\\n]+)', n_file)"
   ]
  },
  {
   "cell_type": "code",
   "execution_count": 12,
   "metadata": {},
   "outputs": [],
   "source": [
    "v2 = [i.replace('\\n','') for i in x2]"
   ]
  },
  {
   "cell_type": "code",
   "execution_count": 13,
   "metadata": {},
   "outputs": [],
   "source": [
    "n_names = []\n",
    "n_seq = []\n",
    "\n",
    "for i in v2:\n",
    "    match1= re.search('^[ATGC]+$',i)\n",
    "    match2= re.search('>?DNEG',i)\n",
    "    if match2:\n",
    "        if not 'available' in i:\n",
    "            n_names.append(i)\n",
    "    else:\n",
    "        if match1:\n",
    "            n_seq.append(i)"
   ]
  },
  {
   "cell_type": "code",
   "execution_count": 14,
   "metadata": {},
   "outputs": [
    {
     "data": {
      "text/plain": [
       "126395"
      ]
     },
     "execution_count": 14,
     "metadata": {},
     "output_type": "execute_result"
    }
   ],
   "source": [
    "len(n_names)"
   ]
  },
  {
   "cell_type": "code",
   "execution_count": 15,
   "metadata": {},
   "outputs": [
    {
     "data": {
      "text/plain": [
       "126395"
      ]
     },
     "execution_count": 15,
     "metadata": {},
     "output_type": "execute_result"
    }
   ],
   "source": [
    "len(n_seq)"
   ]
  },
  {
   "cell_type": "markdown",
   "metadata": {},
   "source": [
    "# Moments of inertia"
   ]
  },
  {
   "cell_type": "code",
   "execution_count": 16,
   "metadata": {},
   "outputs": [],
   "source": [
    "e_dim2_desc = []\n",
    "\n",
    "for elem in e_seq:\n",
    "    e_inertia = inertia.DNA(elem, dim=2, desc1=False)\n",
    "    desc = e_inertia.DNA_descriptors()\n",
    "    e_dim2_desc.append(desc)"
   ]
  },
  {
   "cell_type": "code",
   "execution_count": 17,
   "metadata": {},
   "outputs": [
    {
     "data": {
      "text/plain": [
       "18775"
      ]
     },
     "execution_count": 17,
     "metadata": {},
     "output_type": "execute_result"
    }
   ],
   "source": [
    "len(e_dim2_desc)"
   ]
  },
  {
   "cell_type": "code",
   "execution_count": 18,
   "metadata": {},
   "outputs": [
    {
     "data": {
      "text/plain": [
       "array([-3.83613944e-03, -7.94915045e-06])"
      ]
     },
     "execution_count": 18,
     "metadata": {},
     "output_type": "execute_result"
    }
   ],
   "source": [
    "e_dim2_desc[0]"
   ]
  },
  {
   "cell_type": "code",
   "execution_count": 19,
   "metadata": {},
   "outputs": [],
   "source": [
    "n_dim2_desc = []\n",
    "\n",
    "for elem in n_seq:\n",
    "    n_inertia = inertia.DNA(elem, dim=2, desc1=False)\n",
    "    desc = e_inertia.DNA_descriptors()\n",
    "    n_dim2_desc.append(desc)"
   ]
  },
  {
   "cell_type": "code",
   "execution_count": 20,
   "metadata": {},
   "outputs": [
    {
     "data": {
      "text/plain": [
       "126395"
      ]
     },
     "execution_count": 20,
     "metadata": {},
     "output_type": "execute_result"
    }
   ],
   "source": [
    "len(n_dim2_desc)"
   ]
  },
  {
   "cell_type": "code",
   "execution_count": 21,
   "metadata": {},
   "outputs": [
    {
     "data": {
      "text/plain": [
       "array([-2.61554822e-04, -9.61222626e-06])"
      ]
     },
     "execution_count": 21,
     "metadata": {},
     "output_type": "execute_result"
    }
   ],
   "source": [
    "n_dim2_desc[0]"
   ]
  },
  {
   "cell_type": "markdown",
   "metadata": {},
   "source": [
    "# Entropy and complexity"
   ]
  },
  {
   "cell_type": "code",
   "execution_count": 22,
   "metadata": {},
   "outputs": [
    {
     "data": {
      "text/plain": [
       "<module 'complexity_and_entropy' from 'C:\\\\Users\\\\pauli\\\\OneDrive\\\\Dokumenty\\\\Magisterka\\\\complexity_and_entropy.py'>"
      ]
     },
     "execution_count": 22,
     "metadata": {},
     "output_type": "execute_result"
    }
   ],
   "source": [
    "import importlib\n",
    "importlib.reload(c_and_e)"
   ]
  },
  {
   "cell_type": "code",
   "execution_count": 22,
   "metadata": {},
   "outputs": [
    {
     "name": "stderr",
     "output_type": "stream",
     "text": [
      "C:\\Users\\pauli\\OneDrive\\Dokumenty\\Magisterka\\complexity_and_entropy.py:101: RuntimeWarning: divide by zero encountered in log\n",
      "  K1_mat = (1/self.L)*np.log(matrix)\n"
     ]
    }
   ],
   "source": [
    "e_complexity = []\n",
    "e_entropy = []\n",
    "\n",
    "for elem in e_seq:\n",
    "    e_ce = c_and_e.ComplexityEntropy(elem)\n",
    "    e_complexity.append(e_ce.K1_complexity())\n",
    "    e_entropy.append(e_ce.K2_entropy())"
   ]
  },
  {
   "cell_type": "code",
   "execution_count": 23,
   "metadata": {},
   "outputs": [
    {
     "data": {
      "text/plain": [
       "18775"
      ]
     },
     "execution_count": 23,
     "metadata": {},
     "output_type": "execute_result"
    }
   ],
   "source": [
    "len(e_complexity)"
   ]
  },
  {
   "cell_type": "code",
   "execution_count": 24,
   "metadata": {},
   "outputs": [
    {
     "data": {
      "text/plain": [
       "18775"
      ]
     },
     "execution_count": 24,
     "metadata": {},
     "output_type": "execute_result"
    }
   ],
   "source": [
    "len(e_entropy)"
   ]
  },
  {
   "cell_type": "code",
   "execution_count": 25,
   "metadata": {},
   "outputs": [
    {
     "data": {
      "text/plain": [
       "[0.5100247849125792,\n",
       " 0.48768353998120617,\n",
       " 0.465915581709238,\n",
       " 0.46622594830015324,\n",
       " 0.0]"
      ]
     },
     "execution_count": 25,
     "metadata": {},
     "output_type": "execute_result"
    }
   ],
   "source": [
    "e_complexity[0]"
   ]
  },
  {
   "cell_type": "code",
   "execution_count": 26,
   "metadata": {
    "scrolled": true
   },
   "outputs": [
    {
     "data": {
      "text/plain": [
       "1.3662240820333535"
      ]
     },
     "execution_count": 26,
     "metadata": {},
     "output_type": "execute_result"
    }
   ],
   "source": [
    "e_entropy[0]"
   ]
  },
  {
   "cell_type": "code",
   "execution_count": 27,
   "metadata": {},
   "outputs": [],
   "source": [
    "n_complexity = []\n",
    "n_entropy = []\n",
    "\n",
    "for elem in n_seq:\n",
    "    n_ce = c_and_e.ComplexityEntropy(elem)\n",
    "    n_complexity.append(n_ce.K1_complexity())\n",
    "    n_entropy.append(n_ce.K2_entropy())"
   ]
  },
  {
   "cell_type": "markdown",
   "metadata": {},
   "source": [
    "# CAI and A/T, G/C ratios"
   ]
  },
  {
   "cell_type": "markdown",
   "metadata": {},
   "source": [
    "**CAI**"
   ]
  },
  {
   "cell_type": "code",
   "execution_count": 28,
   "metadata": {
    "scrolled": true
   },
   "outputs": [],
   "source": [
    "e_cai = []\n",
    "\n",
    "seq_cai = bio.CodonAdaptationIndex()\n",
    "\n",
    "for elem in e_seq:\n",
    "    \n",
    "    try:\n",
    "        cai = seq_cai.cai_for_gene(elem)\n",
    "        e_cai.append(cai)\n",
    "        \n",
    "    except Exception as e:\n",
    "        \n",
    "        try:\n",
    "            cai = seq_cai.cai_for_gene(elem[:-1])\n",
    "            e_cai.append(cai)\n",
    "        \n",
    "        except Exception as e:\n",
    "            cai = seq_cai.cai_for_gene(elem[:-2])\n",
    "            e_cai.append(cai)"
   ]
  },
  {
   "cell_type": "code",
   "execution_count": 29,
   "metadata": {},
   "outputs": [
    {
     "data": {
      "text/plain": [
       "18775"
      ]
     },
     "execution_count": 29,
     "metadata": {},
     "output_type": "execute_result"
    }
   ],
   "source": [
    "len(e_cai)"
   ]
  },
  {
   "cell_type": "code",
   "execution_count": 30,
   "metadata": {},
   "outputs": [
    {
     "data": {
      "text/plain": [
       "0.2377256805617765"
      ]
     },
     "execution_count": 30,
     "metadata": {},
     "output_type": "execute_result"
    }
   ],
   "source": [
    "e_cai[0]"
   ]
  },
  {
   "cell_type": "code",
   "execution_count": 31,
   "metadata": {},
   "outputs": [],
   "source": [
    "n_cai = []\n",
    "\n",
    "seq_cai = bio.CodonAdaptationIndex()\n",
    "\n",
    "for elem in n_seq:\n",
    "    \n",
    "    try:\n",
    "        cai = seq_cai.cai_for_gene(elem)\n",
    "        n_cai.append(cai)\n",
    "        \n",
    "    except Exception as e:\n",
    "        \n",
    "        try:\n",
    "            cai = seq_cai.cai_for_gene(elem[:-1])\n",
    "            n_cai.append(cai)\n",
    "        \n",
    "        except Exception as e:\n",
    "            cai = seq_cai.cai_for_gene(elem[:-2])\n",
    "            n_cai.append(cai)"
   ]
  },
  {
   "cell_type": "code",
   "execution_count": 32,
   "metadata": {},
   "outputs": [
    {
     "data": {
      "text/plain": [
       "0.19480273620782487"
      ]
     },
     "execution_count": 32,
     "metadata": {},
     "output_type": "execute_result"
    }
   ],
   "source": [
    "n_cai[0]"
   ]
  },
  {
   "cell_type": "markdown",
   "metadata": {},
   "source": [
    "**A/T, G/C ratios**"
   ]
  },
  {
   "cell_type": "code",
   "execution_count": 33,
   "metadata": {},
   "outputs": [],
   "source": [
    "def nuc_ratio(seq):\n",
    "    \n",
    "    A_num = seq.count('A')\n",
    "    T_num = seq.count('T')\n",
    "    C_num = seq.count('C')\n",
    "    G_num = seq.count('G')\n",
    "    \n",
    "    if A_num > 0 and T_num > 0:\n",
    "        AT_ratio = A_num/T_num\n",
    "    else:\n",
    "        AT_ratio = 0\n",
    "    if G_num > 0 and C_num > 0:\n",
    "        GC_ratio = G_num/C_num\n",
    "    else:\n",
    "        GC_ratio = 0\n",
    "    \n",
    "    return [AT_ratio, GC_ratio]"
   ]
  },
  {
   "cell_type": "code",
   "execution_count": 34,
   "metadata": {},
   "outputs": [],
   "source": [
    "e_ratios = []\n",
    "\n",
    "for elem in e_seq:\n",
    "    \n",
    "    ratios = nuc_ratio(elem)\n",
    "    e_ratios.append(ratios)"
   ]
  },
  {
   "cell_type": "code",
   "execution_count": 35,
   "metadata": {},
   "outputs": [
    {
     "data": {
      "text/plain": [
       "[1.3074712643678161, 0.9925925925925926]"
      ]
     },
     "execution_count": 35,
     "metadata": {},
     "output_type": "execute_result"
    }
   ],
   "source": [
    "e_ratios[0]"
   ]
  },
  {
   "cell_type": "code",
   "execution_count": 36,
   "metadata": {},
   "outputs": [],
   "source": [
    "n_ratios = []\n",
    "\n",
    "for elem in n_seq:\n",
    "    \n",
    "    ratios = nuc_ratio(elem)\n",
    "    n_ratios.append(ratios)"
   ]
  },
  {
   "cell_type": "code",
   "execution_count": 37,
   "metadata": {},
   "outputs": [
    {
     "data": {
      "text/plain": [
       "[1.0333333333333334, 1.8484848484848484]"
      ]
     },
     "execution_count": 37,
     "metadata": {},
     "output_type": "execute_result"
    }
   ],
   "source": [
    "n_ratios[0]"
   ]
  },
  {
   "cell_type": "markdown",
   "metadata": {},
   "source": [
    "**Spaces between the same nucleotides**"
   ]
  },
  {
   "cell_type": "code",
   "execution_count": 38,
   "metadata": {},
   "outputs": [],
   "source": [
    "def nuc_mean_spaces(seq, nuc):\n",
    "    \n",
    "    space_list = []\n",
    "    \n",
    "    sp_count = 0\n",
    "    for num, name in enumerate(seq):\n",
    "        \n",
    "        if name != nuc:\n",
    "            sp_count += 1\n",
    "            \n",
    "        if name == nuc:\n",
    "            \n",
    "            prev_name = seq[num-1]\n",
    "            \n",
    "            if prev_name != nuc:\n",
    "                \n",
    "                if sp_count > 0:\n",
    "                    space_list.append(sp_count)\n",
    "                    sp_count = 0\n",
    "                    \n",
    "    sp_mean = np.array(space_list).mean()\n",
    "    \n",
    "    return sp_mean"
   ]
  },
  {
   "cell_type": "code",
   "execution_count": 39,
   "metadata": {},
   "outputs": [],
   "source": [
    "e_mean_A = []\n",
    "e_mean_T = []\n",
    "e_mean_G = []\n",
    "e_mean_C = []\n",
    "\n",
    "for elem in e_seq:\n",
    "\n",
    "    e_mean_A.append(nuc_mean_spaces(elem, 'A'))\n",
    "    e_mean_T.append(nuc_mean_spaces(elem, 'T'))\n",
    "    e_mean_G.append(nuc_mean_spaces(elem, 'G'))\n",
    "    e_mean_C.append(nuc_mean_spaces(elem, 'C'))"
   ]
  },
  {
   "cell_type": "code",
   "execution_count": 40,
   "metadata": {},
   "outputs": [
    {
     "name": "stdout",
     "output_type": "stream",
     "text": [
      "[3.2181818181818183, 4.308695652173913, 4.9906976744186045, 4.8986175115207375]\n"
     ]
    }
   ],
   "source": [
    "print([e_mean_A[0], e_mean_T[0], e_mean_G[0], e_mean_C[0]])"
   ]
  },
  {
   "cell_type": "code",
   "execution_count": 41,
   "metadata": {},
   "outputs": [
    {
     "name": "stderr",
     "output_type": "stream",
     "text": [
      "<ipython-input-38-be713aa620cd>:21: RuntimeWarning: Mean of empty slice.\n",
      "  sp_mean = np.array(space_list).mean()\n",
      "C:\\Users\\pauli\\anaconda3\\lib\\site-packages\\numpy\\core\\_methods.py:170: RuntimeWarning: invalid value encountered in double_scalars\n",
      "  ret = ret.dtype.type(ret / rcount)\n"
     ]
    }
   ],
   "source": [
    "n_mean_A = []\n",
    "n_mean_T = []\n",
    "n_mean_G = []\n",
    "n_mean_C = []\n",
    "\n",
    "for elem in n_seq:\n",
    "\n",
    "    n_mean_A.append(nuc_mean_spaces(elem, 'A'))\n",
    "    n_mean_T.append(nuc_mean_spaces(elem, 'T'))\n",
    "    n_mean_G.append(nuc_mean_spaces(elem, 'G'))\n",
    "    n_mean_C.append(nuc_mean_spaces(elem, 'C'))"
   ]
  },
  {
   "cell_type": "markdown",
   "metadata": {},
   "source": [
    "# Scatterplot and Correlations"
   ]
  },
  {
   "cell_type": "code",
   "execution_count": 42,
   "metadata": {},
   "outputs": [],
   "source": [
    "import matplotlib.pyplot as plt"
   ]
  },
  {
   "cell_type": "code",
   "execution_count": 43,
   "metadata": {},
   "outputs": [],
   "source": [
    "import pandas as pd"
   ]
  },
  {
   "cell_type": "markdown",
   "metadata": {},
   "source": [
    "**Preparations**"
   ]
  },
  {
   "cell_type": "code",
   "execution_count": 44,
   "metadata": {},
   "outputs": [],
   "source": [
    "#lists of mean values where necessary - essential genes\n",
    "\n",
    "e_desc_m = [np.array(elem).mean() for elem in e_dim2_desc]\n",
    "e_complex_m = [np.array(elem).mean() for elem in e_complexity]\n",
    "e_ratios_m = [np.array(elem).mean() for elem in e_ratios]"
   ]
  },
  {
   "cell_type": "code",
   "execution_count": 45,
   "metadata": {},
   "outputs": [
    {
     "data": {
      "text/plain": [
       "-0.0019220442950173497"
      ]
     },
     "execution_count": 45,
     "metadata": {},
     "output_type": "execute_result"
    }
   ],
   "source": [
    "e_desc_m[0]"
   ]
  },
  {
   "cell_type": "code",
   "execution_count": 46,
   "metadata": {},
   "outputs": [],
   "source": [
    "#lists of mean values where necessary - nonessential genes\n",
    "\n",
    "n_desc_m = [np.array(elem).mean() for elem in n_dim2_desc]\n",
    "n_complex_m = [np.array(elem).mean() for elem in n_complexity]\n",
    "n_ratios_m = [np.array(elem).mean() for elem in n_ratios]"
   ]
  },
  {
   "cell_type": "markdown",
   "metadata": {},
   "source": [
    "**Scatterplots and table**"
   ]
  },
  {
   "cell_type": "markdown",
   "metadata": {},
   "source": [
    "**Table for essential genes**"
   ]
  },
  {
   "cell_type": "code",
   "execution_count": 47,
   "metadata": {},
   "outputs": [],
   "source": [
    "df_e = pd.DataFrame()"
   ]
  },
  {
   "cell_type": "code",
   "execution_count": 48,
   "metadata": {},
   "outputs": [],
   "source": [
    "df_e[\"moments_of_inertia_desc\"] = e_desc_m\n",
    "df_e[\"complexity_coefficient\"] = e_complex_m\n",
    "df_e[\"ratios_of_nucleotides\"] = e_ratios_m\n",
    "df_e[\"entropy_coefficient\"] = e_entropy\n",
    "df_e[\"cai\"] = e_cai\n",
    "df_e[\"mean_spaces_adenine\"] = e_mean_A\n",
    "df_e[\"mean_spaces_guanine\"] = e_mean_G\n",
    "df_e[\"mean_spaces_cytosine\"] = e_mean_C\n",
    "df_e[\"mean_spaces_thymine\"] = e_mean_T"
   ]
  },
  {
   "cell_type": "code",
   "execution_count": 49,
   "metadata": {
    "scrolled": true
   },
   "outputs": [
    {
     "data": {
      "text/html": [
       "<div>\n",
       "<style scoped>\n",
       "    .dataframe tbody tr th:only-of-type {\n",
       "        vertical-align: middle;\n",
       "    }\n",
       "\n",
       "    .dataframe tbody tr th {\n",
       "        vertical-align: top;\n",
       "    }\n",
       "\n",
       "    .dataframe thead th {\n",
       "        text-align: right;\n",
       "    }\n",
       "</style>\n",
       "<table border=\"1\" class=\"dataframe\">\n",
       "  <thead>\n",
       "    <tr style=\"text-align: right;\">\n",
       "      <th></th>\n",
       "      <th>moments_of_inertia_desc</th>\n",
       "      <th>complexity_coefficient</th>\n",
       "      <th>ratios_of_nucleotides</th>\n",
       "      <th>entropy_coefficient</th>\n",
       "      <th>cai</th>\n",
       "      <th>mean_spaces_adenine</th>\n",
       "      <th>mean_spaces_guanine</th>\n",
       "      <th>mean_spaces_cytosine</th>\n",
       "      <th>mean_spaces_thymine</th>\n",
       "    </tr>\n",
       "  </thead>\n",
       "  <tbody>\n",
       "    <tr>\n",
       "      <th>0</th>\n",
       "      <td>-0.001922</td>\n",
       "      <td>0.385970</td>\n",
       "      <td>1.150032</td>\n",
       "      <td>1.366224</td>\n",
       "      <td>0.237726</td>\n",
       "      <td>3.218182</td>\n",
       "      <td>4.990698</td>\n",
       "      <td>4.898618</td>\n",
       "      <td>4.308696</td>\n",
       "    </tr>\n",
       "    <tr>\n",
       "      <th>1</th>\n",
       "      <td>-0.000914</td>\n",
       "      <td>0.374997</td>\n",
       "      <td>1.136748</td>\n",
       "      <td>1.367846</td>\n",
       "      <td>0.267721</td>\n",
       "      <td>3.295652</td>\n",
       "      <td>4.623711</td>\n",
       "      <td>5.067039</td>\n",
       "      <td>4.093596</td>\n",
       "    </tr>\n",
       "    <tr>\n",
       "      <th>2</th>\n",
       "      <td>-0.000924</td>\n",
       "      <td>0.410421</td>\n",
       "      <td>1.302521</td>\n",
       "      <td>1.373966</td>\n",
       "      <td>0.280352</td>\n",
       "      <td>3.313625</td>\n",
       "      <td>4.133903</td>\n",
       "      <td>4.586626</td>\n",
       "      <td>4.914191</td>\n",
       "    </tr>\n",
       "    <tr>\n",
       "      <th>3</th>\n",
       "      <td>-0.000473</td>\n",
       "      <td>0.427297</td>\n",
       "      <td>1.274711</td>\n",
       "      <td>1.374730</td>\n",
       "      <td>0.280261</td>\n",
       "      <td>3.316832</td>\n",
       "      <td>4.041037</td>\n",
       "      <td>4.558411</td>\n",
       "      <td>4.301370</td>\n",
       "    </tr>\n",
       "    <tr>\n",
       "      <th>4</th>\n",
       "      <td>-0.001419</td>\n",
       "      <td>0.392608</td>\n",
       "      <td>1.243855</td>\n",
       "      <td>1.375886</td>\n",
       "      <td>0.302221</td>\n",
       "      <td>3.526502</td>\n",
       "      <td>4.025735</td>\n",
       "      <td>4.702811</td>\n",
       "      <td>4.384921</td>\n",
       "    </tr>\n",
       "  </tbody>\n",
       "</table>\n",
       "</div>"
      ],
      "text/plain": [
       "   moments_of_inertia_desc  complexity_coefficient  ratios_of_nucleotides  \\\n",
       "0                -0.001922                0.385970               1.150032   \n",
       "1                -0.000914                0.374997               1.136748   \n",
       "2                -0.000924                0.410421               1.302521   \n",
       "3                -0.000473                0.427297               1.274711   \n",
       "4                -0.001419                0.392608               1.243855   \n",
       "\n",
       "   entropy_coefficient       cai  mean_spaces_adenine  mean_spaces_guanine  \\\n",
       "0             1.366224  0.237726             3.218182             4.990698   \n",
       "1             1.367846  0.267721             3.295652             4.623711   \n",
       "2             1.373966  0.280352             3.313625             4.133903   \n",
       "3             1.374730  0.280261             3.316832             4.041037   \n",
       "4             1.375886  0.302221             3.526502             4.025735   \n",
       "\n",
       "   mean_spaces_cytosine  mean_spaces_thymine  \n",
       "0              4.898618             4.308696  \n",
       "1              5.067039             4.093596  \n",
       "2              4.586626             4.914191  \n",
       "3              4.558411             4.301370  \n",
       "4              4.702811             4.384921  "
      ]
     },
     "execution_count": 49,
     "metadata": {},
     "output_type": "execute_result"
    }
   ],
   "source": [
    "df_e.head()"
   ]
  },
  {
   "cell_type": "markdown",
   "metadata": {},
   "source": [
    "**Table with correlation coefficients for essential genes**"
   ]
  },
  {
   "cell_type": "code",
   "execution_count": 50,
   "metadata": {
    "scrolled": true
   },
   "outputs": [
    {
     "data": {
      "text/html": [
       "<div>\n",
       "<style scoped>\n",
       "    .dataframe tbody tr th:only-of-type {\n",
       "        vertical-align: middle;\n",
       "    }\n",
       "\n",
       "    .dataframe tbody tr th {\n",
       "        vertical-align: top;\n",
       "    }\n",
       "\n",
       "    .dataframe thead th {\n",
       "        text-align: right;\n",
       "    }\n",
       "</style>\n",
       "<table border=\"1\" class=\"dataframe\">\n",
       "  <thead>\n",
       "    <tr style=\"text-align: right;\">\n",
       "      <th></th>\n",
       "      <th>moments_of_inertia_desc</th>\n",
       "      <th>complexity_coefficient</th>\n",
       "      <th>ratios_of_nucleotides</th>\n",
       "      <th>entropy_coefficient</th>\n",
       "      <th>cai</th>\n",
       "      <th>mean_spaces_adenine</th>\n",
       "      <th>mean_spaces_guanine</th>\n",
       "      <th>mean_spaces_cytosine</th>\n",
       "      <th>mean_spaces_thymine</th>\n",
       "    </tr>\n",
       "  </thead>\n",
       "  <tbody>\n",
       "    <tr>\n",
       "      <th>moments_of_inertia_desc</th>\n",
       "      <td>1.000000</td>\n",
       "      <td>0.167208</td>\n",
       "      <td>-0.359517</td>\n",
       "      <td>0.038840</td>\n",
       "      <td>0.120023</td>\n",
       "      <td>0.568058</td>\n",
       "      <td>-0.560892</td>\n",
       "      <td>-0.498775</td>\n",
       "      <td>0.399839</td>\n",
       "    </tr>\n",
       "    <tr>\n",
       "      <th>complexity_coefficient</th>\n",
       "      <td>0.167208</td>\n",
       "      <td>1.000000</td>\n",
       "      <td>-0.164514</td>\n",
       "      <td>-0.113887</td>\n",
       "      <td>0.033062</td>\n",
       "      <td>0.100868</td>\n",
       "      <td>-0.118291</td>\n",
       "      <td>-0.130300</td>\n",
       "      <td>0.083565</td>\n",
       "    </tr>\n",
       "    <tr>\n",
       "      <th>ratios_of_nucleotides</th>\n",
       "      <td>-0.359517</td>\n",
       "      <td>-0.164514</td>\n",
       "      <td>1.000000</td>\n",
       "      <td>-0.144784</td>\n",
       "      <td>-0.029471</td>\n",
       "      <td>-0.598057</td>\n",
       "      <td>0.204309</td>\n",
       "      <td>0.592625</td>\n",
       "      <td>-0.081311</td>\n",
       "    </tr>\n",
       "    <tr>\n",
       "      <th>entropy_coefficient</th>\n",
       "      <td>0.038840</td>\n",
       "      <td>-0.113887</td>\n",
       "      <td>-0.144784</td>\n",
       "      <td>1.000000</td>\n",
       "      <td>0.320388</td>\n",
       "      <td>-0.182000</td>\n",
       "      <td>-0.204872</td>\n",
       "      <td>-0.262017</td>\n",
       "      <td>-0.264433</td>\n",
       "    </tr>\n",
       "    <tr>\n",
       "      <th>cai</th>\n",
       "      <td>0.120023</td>\n",
       "      <td>0.033062</td>\n",
       "      <td>-0.029471</td>\n",
       "      <td>0.320388</td>\n",
       "      <td>1.000000</td>\n",
       "      <td>0.182644</td>\n",
       "      <td>-0.372613</td>\n",
       "      <td>-0.366417</td>\n",
       "      <td>0.194530</td>\n",
       "    </tr>\n",
       "    <tr>\n",
       "      <th>mean_spaces_adenine</th>\n",
       "      <td>0.568058</td>\n",
       "      <td>0.100868</td>\n",
       "      <td>-0.598057</td>\n",
       "      <td>-0.182000</td>\n",
       "      <td>0.182644</td>\n",
       "      <td>1.000000</td>\n",
       "      <td>-0.724583</td>\n",
       "      <td>-0.743187</td>\n",
       "      <td>0.624467</td>\n",
       "    </tr>\n",
       "    <tr>\n",
       "      <th>mean_spaces_guanine</th>\n",
       "      <td>-0.560892</td>\n",
       "      <td>-0.118291</td>\n",
       "      <td>0.204309</td>\n",
       "      <td>-0.204872</td>\n",
       "      <td>-0.372613</td>\n",
       "      <td>-0.724583</td>\n",
       "      <td>1.000000</td>\n",
       "      <td>0.773546</td>\n",
       "      <td>-0.679406</td>\n",
       "    </tr>\n",
       "    <tr>\n",
       "      <th>mean_spaces_cytosine</th>\n",
       "      <td>-0.498775</td>\n",
       "      <td>-0.130300</td>\n",
       "      <td>0.592625</td>\n",
       "      <td>-0.262017</td>\n",
       "      <td>-0.366417</td>\n",
       "      <td>-0.743187</td>\n",
       "      <td>0.773546</td>\n",
       "      <td>1.000000</td>\n",
       "      <td>-0.694556</td>\n",
       "    </tr>\n",
       "    <tr>\n",
       "      <th>mean_spaces_thymine</th>\n",
       "      <td>0.399839</td>\n",
       "      <td>0.083565</td>\n",
       "      <td>-0.081311</td>\n",
       "      <td>-0.264433</td>\n",
       "      <td>0.194530</td>\n",
       "      <td>0.624467</td>\n",
       "      <td>-0.679406</td>\n",
       "      <td>-0.694556</td>\n",
       "      <td>1.000000</td>\n",
       "    </tr>\n",
       "  </tbody>\n",
       "</table>\n",
       "</div>"
      ],
      "text/plain": [
       "                         moments_of_inertia_desc  complexity_coefficient  \\\n",
       "moments_of_inertia_desc                 1.000000                0.167208   \n",
       "complexity_coefficient                  0.167208                1.000000   \n",
       "ratios_of_nucleotides                  -0.359517               -0.164514   \n",
       "entropy_coefficient                     0.038840               -0.113887   \n",
       "cai                                     0.120023                0.033062   \n",
       "mean_spaces_adenine                     0.568058                0.100868   \n",
       "mean_spaces_guanine                    -0.560892               -0.118291   \n",
       "mean_spaces_cytosine                   -0.498775               -0.130300   \n",
       "mean_spaces_thymine                     0.399839                0.083565   \n",
       "\n",
       "                         ratios_of_nucleotides  entropy_coefficient       cai  \\\n",
       "moments_of_inertia_desc              -0.359517             0.038840  0.120023   \n",
       "complexity_coefficient               -0.164514            -0.113887  0.033062   \n",
       "ratios_of_nucleotides                 1.000000            -0.144784 -0.029471   \n",
       "entropy_coefficient                  -0.144784             1.000000  0.320388   \n",
       "cai                                  -0.029471             0.320388  1.000000   \n",
       "mean_spaces_adenine                  -0.598057            -0.182000  0.182644   \n",
       "mean_spaces_guanine                   0.204309            -0.204872 -0.372613   \n",
       "mean_spaces_cytosine                  0.592625            -0.262017 -0.366417   \n",
       "mean_spaces_thymine                  -0.081311            -0.264433  0.194530   \n",
       "\n",
       "                         mean_spaces_adenine  mean_spaces_guanine  \\\n",
       "moments_of_inertia_desc             0.568058            -0.560892   \n",
       "complexity_coefficient              0.100868            -0.118291   \n",
       "ratios_of_nucleotides              -0.598057             0.204309   \n",
       "entropy_coefficient                -0.182000            -0.204872   \n",
       "cai                                 0.182644            -0.372613   \n",
       "mean_spaces_adenine                 1.000000            -0.724583   \n",
       "mean_spaces_guanine                -0.724583             1.000000   \n",
       "mean_spaces_cytosine               -0.743187             0.773546   \n",
       "mean_spaces_thymine                 0.624467            -0.679406   \n",
       "\n",
       "                         mean_spaces_cytosine  mean_spaces_thymine  \n",
       "moments_of_inertia_desc             -0.498775             0.399839  \n",
       "complexity_coefficient              -0.130300             0.083565  \n",
       "ratios_of_nucleotides                0.592625            -0.081311  \n",
       "entropy_coefficient                 -0.262017            -0.264433  \n",
       "cai                                 -0.366417             0.194530  \n",
       "mean_spaces_adenine                 -0.743187             0.624467  \n",
       "mean_spaces_guanine                  0.773546            -0.679406  \n",
       "mean_spaces_cytosine                 1.000000            -0.694556  \n",
       "mean_spaces_thymine                 -0.694556             1.000000  "
      ]
     },
     "execution_count": 50,
     "metadata": {},
     "output_type": "execute_result"
    }
   ],
   "source": [
    "df_e.corr()"
   ]
  },
  {
   "cell_type": "code",
   "execution_count": 58,
   "metadata": {},
   "outputs": [
    {
     "name": "stdout",
     "output_type": "stream",
     "text": [
      "\\begin{tabular}{lrrr}\n",
      "\\toprule\n",
      "{} &  moments\\_of\\_inertia\\_desc &  complexity\\_coefficient &  ratios\\_of\\_nucleotides \\\\\n",
      "\\midrule\n",
      "moments\\_of\\_inertia\\_desc &                 1.000000 &                0.167208 &              -0.359517 \\\\\n",
      "complexity\\_coefficient  &                 0.167208 &                1.000000 &              -0.164514 \\\\\n",
      "ratios\\_of\\_nucleotides   &                -0.359517 &               -0.164514 &               1.000000 \\\\\n",
      "entropy\\_coefficient     &                 0.038840 &               -0.113887 &              -0.144784 \\\\\n",
      "cai                     &                 0.120023 &                0.033062 &              -0.029471 \\\\\n",
      "mean\\_spaces\\_adenine     &                 0.568058 &                0.100868 &              -0.598057 \\\\\n",
      "mean\\_spaces\\_guanine     &                -0.560892 &               -0.118291 &               0.204309 \\\\\n",
      "mean\\_spaces\\_cytosine    &                -0.498775 &               -0.130300 &               0.592625 \\\\\n",
      "mean\\_spaces\\_thymine     &                 0.399839 &                0.083565 &              -0.081311 \\\\\n",
      "\\bottomrule\n",
      "\\end{tabular}\n",
      "\n"
     ]
    }
   ],
   "source": [
    "print(df_e.corr().to_latex(index=True, multirow=True, columns=['moments_of_inertia_desc','complexity_coefficient','ratios_of_nucleotides']))"
   ]
  },
  {
   "cell_type": "code",
   "execution_count": 62,
   "metadata": {},
   "outputs": [
    {
     "name": "stdout",
     "output_type": "stream",
     "text": [
      "\\begin{tabular}{lrrr}\n",
      "\\toprule\n",
      "{} &  entropy\\_coefficient &       cai &  mean\\_spaces\\_adenine \\\\\n",
      "\\midrule\n",
      "moments\\_of\\_inertia\\_desc &             0.038840 &  0.120023 &             0.568058 \\\\\n",
      "complexity\\_coefficient  &            -0.113887 &  0.033062 &             0.100868 \\\\\n",
      "ratios\\_of\\_nucleotides   &            -0.144784 & -0.029471 &            -0.598057 \\\\\n",
      "entropy\\_coefficient     &             1.000000 &  0.320388 &            -0.182000 \\\\\n",
      "cai                     &             0.320388 &  1.000000 &             0.182644 \\\\\n",
      "mean\\_spaces\\_adenine     &            -0.182000 &  0.182644 &             1.000000 \\\\\n",
      "mean\\_spaces\\_guanine     &            -0.204872 & -0.372613 &            -0.724583 \\\\\n",
      "mean\\_spaces\\_cytosine    &            -0.262017 & -0.366417 &            -0.743187 \\\\\n",
      "mean\\_spaces\\_thymine     &            -0.264433 &  0.194530 &             0.624467 \\\\\n",
      "\\bottomrule\n",
      "\\end{tabular}\n",
      "\n"
     ]
    }
   ],
   "source": [
    "print(df_e.corr().to_latex(index=True, multirow=True, columns=[\"entropy_coefficient\",\"cai\",\"mean_spaces_adenine\"]))"
   ]
  },
  {
   "cell_type": "code",
   "execution_count": 63,
   "metadata": {},
   "outputs": [
    {
     "name": "stdout",
     "output_type": "stream",
     "text": [
      "\\begin{tabular}{lrrr}\n",
      "\\toprule\n",
      "{} &  mean\\_spaces\\_guanine &  mean\\_spaces\\_cytosine &  mean\\_spaces\\_thymine \\\\\n",
      "\\midrule\n",
      "moments\\_of\\_inertia\\_desc &            -0.560892 &             -0.498775 &             0.399839 \\\\\n",
      "complexity\\_coefficient  &            -0.118291 &             -0.130300 &             0.083565 \\\\\n",
      "ratios\\_of\\_nucleotides   &             0.204309 &              0.592625 &            -0.081311 \\\\\n",
      "entropy\\_coefficient     &            -0.204872 &             -0.262017 &            -0.264433 \\\\\n",
      "cai                     &            -0.372613 &             -0.366417 &             0.194530 \\\\\n",
      "mean\\_spaces\\_adenine     &            -0.724583 &             -0.743187 &             0.624467 \\\\\n",
      "mean\\_spaces\\_guanine     &             1.000000 &              0.773546 &            -0.679406 \\\\\n",
      "mean\\_spaces\\_cytosine    &             0.773546 &              1.000000 &            -0.694556 \\\\\n",
      "mean\\_spaces\\_thymine     &            -0.679406 &             -0.694556 &             1.000000 \\\\\n",
      "\\bottomrule\n",
      "\\end{tabular}\n",
      "\n"
     ]
    }
   ],
   "source": [
    "print(df_e.corr().to_latex(index=True, multirow=True, columns=[\"mean_spaces_guanine\",\"mean_spaces_cytosine\",\"mean_spaces_thymine\"]))"
   ]
  },
  {
   "cell_type": "code",
   "execution_count": 60,
   "metadata": {},
   "outputs": [],
   "source": [
    "df_e.corr().to_csv('corr_matrix_features_lr.csv', sep='\\t')"
   ]
  },
  {
   "cell_type": "code",
   "execution_count": 61,
   "metadata": {},
   "outputs": [],
   "source": [
    "df_e.corr().to_csv('corr_matrix_features_lr2.csv')"
   ]
  },
  {
   "cell_type": "code",
   "execution_count": 52,
   "metadata": {},
   "outputs": [],
   "source": [
    "e_corr_mat = df_e.corr()\n",
    "\n",
    "# Retain upper triangular values of correlation matrix and\n",
    "# make Lower triangular values Null - duplicates removal\n",
    "upper_corr_mat = e_corr_mat.where(\n",
    "    np.triu(np.ones(e_corr_mat.shape), k=1).astype(np.bool))\n",
    "\n",
    "sorted_mat = upper_corr_mat.abs().unstack().dropna().sort_values()"
   ]
  },
  {
   "cell_type": "code",
   "execution_count": 53,
   "metadata": {
    "scrolled": true
   },
   "outputs": [
    {
     "data": {
      "text/plain": [
       "cai                     ratios_of_nucleotides      0.029471\n",
       "                        complexity_coefficient     0.033062\n",
       "entropy_coefficient     moments_of_inertia_desc    0.038840\n",
       "mean_spaces_thymine     ratios_of_nucleotides      0.081311\n",
       "                        complexity_coefficient     0.083565\n",
       "mean_spaces_adenine     complexity_coefficient     0.100868\n",
       "entropy_coefficient     complexity_coefficient     0.113887\n",
       "mean_spaces_guanine     complexity_coefficient     0.118291\n",
       "cai                     moments_of_inertia_desc    0.120023\n",
       "mean_spaces_cytosine    complexity_coefficient     0.130300\n",
       "entropy_coefficient     ratios_of_nucleotides      0.144784\n",
       "ratios_of_nucleotides   complexity_coefficient     0.164514\n",
       "complexity_coefficient  moments_of_inertia_desc    0.167208\n",
       "mean_spaces_adenine     entropy_coefficient        0.182000\n",
       "                        cai                        0.182644\n",
       "mean_spaces_thymine     cai                        0.194530\n",
       "mean_spaces_guanine     ratios_of_nucleotides      0.204309\n",
       "                        entropy_coefficient        0.204872\n",
       "mean_spaces_cytosine    entropy_coefficient        0.262017\n",
       "mean_spaces_thymine     entropy_coefficient        0.264433\n",
       "cai                     entropy_coefficient        0.320388\n",
       "ratios_of_nucleotides   moments_of_inertia_desc    0.359517\n",
       "mean_spaces_cytosine    cai                        0.366417\n",
       "mean_spaces_guanine     cai                        0.372613\n",
       "mean_spaces_thymine     moments_of_inertia_desc    0.399839\n",
       "mean_spaces_cytosine    moments_of_inertia_desc    0.498775\n",
       "mean_spaces_guanine     moments_of_inertia_desc    0.560892\n",
       "mean_spaces_adenine     moments_of_inertia_desc    0.568058\n",
       "mean_spaces_cytosine    ratios_of_nucleotides      0.592625\n",
       "mean_spaces_adenine     ratios_of_nucleotides      0.598057\n",
       "mean_spaces_thymine     mean_spaces_adenine        0.624467\n",
       "                        mean_spaces_guanine        0.679406\n",
       "                        mean_spaces_cytosine       0.694556\n",
       "mean_spaces_guanine     mean_spaces_adenine        0.724583\n",
       "mean_spaces_cytosine    mean_spaces_adenine        0.743187\n",
       "                        mean_spaces_guanine        0.773546\n",
       "dtype: float64"
      ]
     },
     "execution_count": 53,
     "metadata": {},
     "output_type": "execute_result"
    }
   ],
   "source": [
    "sorted_mat #which ones works best with each other (not correlating!)"
   ]
  },
  {
   "cell_type": "markdown",
   "metadata": {},
   "source": [
    "Closest to zero: complexity + moments of inertia + cai + entropy + ratios_of_nuc (working best with each other)"
   ]
  },
  {
   "cell_type": "markdown",
   "metadata": {},
   "source": [
    "**Sample scatterplots for essential genes**"
   ]
  },
  {
   "cell_type": "code",
   "execution_count": 54,
   "metadata": {},
   "outputs": [
    {
     "name": "stderr",
     "output_type": "stream",
     "text": [
      "No handles with labels found to put in legend.\n"
     ]
    },
    {
     "data": {
      "image/png": "[encoded data removed]",
      "text/plain": [
       "<Figure size 432x288 with 1 Axes>"
      ]
     },
     "metadata": {
      "needs_background": "light"
     },
     "output_type": "display_data"
    }
   ],
   "source": [
    "plt.scatter(e_complex_m, e_entropy)\n",
    "\n",
    "plt.title('Scatterplot - complexity and entropy')\n",
    "plt.legend()\n",
    "plt.show()"
   ]
  },
  {
   "cell_type": "code",
   "execution_count": 90,
   "metadata": {},
   "outputs": [
    {
     "data": {
      "image/png": "[encoded data removed]",
      "text/plain": [
       "<Figure size 432x288 with 1 Axes>"
      ]
     },
     "metadata": {
      "needs_background": "light"
     },
     "output_type": "display_data"
    }
   ],
   "source": [
    "plt.scatter(e_complex_m, e_dim2_desc, label=f'Correlation = {np.round(np.corrcoef(e_complexity,e_entropy)[0,1], 2)}')\n",
    "\n",
    "plt.title('Scatterplot and Correlations - complexity and inertia')\n",
    "plt.legend()\n",
    "plt.show()"
   ]
  },
  {
   "cell_type": "code",
   "execution_count": 91,
   "metadata": {},
   "outputs": [
    {
     "data": {
      "image/png": "[encoded data removed]",
      "text/plain": [
       "<Figure size 432x288 with 1 Axes>"
      ]
     },
     "metadata": {
      "needs_background": "light"
     },
     "output_type": "display_data"
    }
   ],
   "source": [
    "plt.scatter(e_entropy, e_dim2_desc, label=f'Correlation = {np.round(np.corrcoef(e_complexity,e_entropy)[0,1], 2)}')\n",
    "\n",
    "plt.title('Scatterplot and Correlations - complexity and inertia')\n",
    "plt.legend()\n",
    "plt.show()"
   ]
  },
  {
   "cell_type": "markdown",
   "metadata": {},
   "source": [
    "# Neural network - logistic regression"
   ]
  },
  {
   "cell_type": "markdown",
   "metadata": {},
   "source": [
    "**Preparations**"
   ]
  },
  {
   "cell_type": "code",
   "execution_count": 55,
   "metadata": {},
   "outputs": [],
   "source": [
    "import random\n",
    "import torch\n",
    "import torch.nn as nn\n",
    "from sklearn.preprocessing import StandardScaler\n",
    "from sklearn.model_selection import train_test_split"
   ]
  },
  {
   "cell_type": "code",
   "execution_count": 56,
   "metadata": {},
   "outputs": [],
   "source": [
    "e_len = len(e_seq)\n",
    "n_len = len(n_seq)"
   ]
  },
  {
   "cell_type": "markdown",
   "metadata": {},
   "source": [
    "Creating a few different sets with different features which will be later used in separate neural networks."
   ]
  },
  {
   "cell_type": "code",
   "execution_count": 57,
   "metadata": {},
   "outputs": [],
   "source": [
    "e_feat_l1 = []\n",
    "e_feat_l2 = []\n",
    "e_feat_l3 = []\n",
    "e_feat_l4 = []\n",
    "e_feat_l5 = []\n",
    "\n",
    "for i in range(e_len):\n",
    "    a = [e_desc_m[i], e_complex_m[i], e_ratios_m[i], e_entropy[i], e_cai[i]]\n",
    "    e_feat_l1.append(a)\n",
    "    b = [e_cai[i], e_ratios_m[i], e_complex_m[i], e_desc_m[i], e_mean_T[i]]\n",
    "    e_feat_l2.append(b)\n",
    "    c = [e_entropy[i], e_desc_m[i], e_mean_T[i]]\n",
    "    e_feat_l3.append(c)\n",
    "    d = [e_desc_m[i], e_complex_m[i], e_ratios_m[i], e_entropy[i], e_cai[i], e_mean_A[i], e_mean_G[i]]\n",
    "    e_feat_l4.append(d)\n",
    "    e = [e_desc_m[i], e_complex_m[i], e_ratios_m[i], e_entropy[i], e_cai[i], e_mean_T[i], e_mean_A[i], e_mean_C[i], e_mean_G[i]]\n",
    "    e_feat_l5.append(e)\n",
    "\n",
    "n_feat_l1 = []\n",
    "n_feat_l2 = []\n",
    "n_feat_l3 = []\n",
    "n_feat_l4 = []\n",
    "n_feat_l5 = []\n",
    "\n",
    "for j in range(n_len):\n",
    "    a = [n_desc_m[j], n_complex_m[j], n_ratios_m[j], n_entropy[j], n_cai[j]]\n",
    "    n_feat_l1.append(a)\n",
    "    b = [n_cai[j], n_ratios_m[j], n_complex_m[j], n_desc_m[j], n_mean_T[j]]\n",
    "    n_feat_l2.append(b)\n",
    "    c = [n_entropy[j], n_desc_m[j], n_mean_T[j]]\n",
    "    n_feat_l3.append(c)\n",
    "    d = [n_desc_m[j], n_complex_m[j], n_ratios_m[j], n_entropy[j], n_cai[j], n_mean_A[j], n_mean_G[j]]\n",
    "    n_feat_l4.append(d)\n",
    "    e = [n_desc_m[j], n_complex_m[j], n_ratios_m[j], n_entropy[j], n_cai[j], n_mean_T[j], n_mean_A[j], n_mean_C[j], n_mean_G[j]]\n",
    "    n_feat_l5.append(e)"
   ]
  },
  {
   "cell_type": "code",
   "execution_count": 58,
   "metadata": {},
   "outputs": [
    {
     "data": {
      "text/plain": [
       "[-0.0019220442950173497,\n",
       " 0.38596997098063535,\n",
       " 1.1500319284802043,\n",
       " 1.3662240820333535,\n",
       " 0.2377256805617765]"
      ]
     },
     "execution_count": 58,
     "metadata": {},
     "output_type": "execute_result"
    }
   ],
   "source": [
    "e_feat_l1[0]"
   ]
  },
  {
   "cell_type": "code",
   "execution_count": 59,
   "metadata": {},
   "outputs": [],
   "source": [
    "random.shuffle(n_feat_l1)\n",
    "new_nf1 = n_feat_l1[:e_len]\n",
    "X1 = new_nf1+e_feat_l1\n",
    "\n",
    "random.shuffle(n_feat_l2)\n",
    "new_nf2 = n_feat_l2[:e_len]\n",
    "X2 = new_nf2+e_feat_l2\n",
    "\n",
    "random.shuffle(n_feat_l3)\n",
    "new_nf3 = n_feat_l3[:e_len]\n",
    "X3 = new_nf3+e_feat_l3\n",
    "\n",
    "random.shuffle(n_feat_l4)\n",
    "new_nf4 = n_feat_l4[:e_len]\n",
    "X4 = new_nf4+e_feat_l4\n",
    "\n",
    "random.shuffle(n_feat_l5)\n",
    "new_nf5 = n_feat_l5[:e_len]\n",
    "X5 = new_nf5+e_feat_l5\n",
    "\n",
    "X1 = np.array(X1)\n",
    "X2 = np.array(X2)\n",
    "X3 = np.array(X3)\n",
    "X4 = np.array(X4)\n",
    "X5 = np.array(X5)\n",
    "\n",
    "e_cat = np.ones(e_len)\n",
    "n_cat = np.zeros(n_len)\n",
    "\n",
    "y = e_cat.tolist() + n_cat[:e_len].tolist()\n",
    "y = np.array(y)"
   ]
  },
  {
   "cell_type": "code",
   "execution_count": 60,
   "metadata": {
    "scrolled": true
   },
   "outputs": [
    {
     "data": {
      "text/plain": [
       "array([-1.35583524e-04,  2.85728049e-01,  1.18923611e+00,  1.37455685e+00,\n",
       "        1.93863590e-01])"
      ]
     },
     "execution_count": 60,
     "metadata": {},
     "output_type": "execute_result"
    }
   ],
   "source": [
    "X1[0]"
   ]
  },
  {
   "cell_type": "markdown",
   "metadata": {},
   "source": [
    "**Neural network model**"
   ]
  },
  {
   "cell_type": "code",
   "execution_count": 95,
   "metadata": {},
   "outputs": [],
   "source": [
    "class Model(nn.Module):\n",
    "    def __init__(self, n_input_features):\n",
    "        super().__init__()\n",
    "        self.linear = nn.Linear(n_input_features, 1) \n",
    "    def forward(self, x):\n",
    "        y_pred = torch.sigmoid(self.linear(x)) \n",
    "        return y_pred"
   ]
  },
  {
   "cell_type": "markdown",
   "metadata": {},
   "source": [
    "# **List 1: entropy, moments of inertia, complexity, ratios A/T G/C, CAI**"
   ]
  },
  {
   "cell_type": "code",
   "execution_count": 62,
   "metadata": {},
   "outputs": [],
   "source": [
    "n_samples, n_features = X1.shape\n",
    "\n",
    "X_train, X_test, y_train, y_test = train_test_split(X1, y, test_size=0.2, random_state=1234)\n",
    "\n",
    "#normalizacja danych\n",
    "sc = StandardScaler()\n",
    "X_train = sc.fit_transform(X_train)\n",
    "X_test = sc.transform(X_test)\n",
    "\n",
    "#zmiana typu - na obiekty typu torch\n",
    "X_train = torch.from_numpy(X_train.astype(np.float32))\n",
    "X_test = torch.from_numpy(X_test.astype(np.float32))\n",
    "y_train = torch.from_numpy(y_train.astype(np.float32))\n",
    "y_test = torch.from_numpy(y_test.astype(np.float32))\n",
    "\n",
    "#zmiana wymiaru wektora kategorii\n",
    "y_train = y_train.view(y_train.shape[0], 1)\n",
    "y_test = y_test.view(y_test.shape[0], 1)"
   ]
  },
  {
   "cell_type": "code",
   "execution_count": 63,
   "metadata": {},
   "outputs": [],
   "source": [
    "model = Model(n_features)"
   ]
  },
  {
   "cell_type": "code",
   "execution_count": 64,
   "metadata": {},
   "outputs": [
    {
     "name": "stdout",
     "output_type": "stream",
     "text": [
      "epoch: 1, loss = 0.7790\n",
      "epoch: 1, accuracy: 0.5432\n",
      "epoch: 2, loss = 0.7770\n",
      "epoch: 2, accuracy: 0.5457\n",
      "epoch: 5, loss = 0.7712\n",
      "epoch: 5, accuracy: 0.5519\n",
      "epoch: 10, loss = 0.7619\n",
      "epoch: 10, accuracy: 0.5616\n",
      "epoch: 50, loss = 0.7053\n",
      "epoch: 50, accuracy: 0.6254\n",
      "epoch: 100, loss = 0.6667\n",
      "epoch: 100, accuracy: 0.6298\n",
      "epoch: 1000, loss = 0.6324\n",
      "epoch: 1000, accuracy: 0.6327\n",
      "epoch: 10000, loss = 0.6324\n",
      "epoch: 10000, accuracy: 0.6325\n"
     ]
    }
   ],
   "source": [
    "num_epochs = 10000\n",
    "learning_rate = 0.03\n",
    "loss_function = nn.BCELoss() #binary cross-entropy \n",
    "optimizer = torch.optim.SGD(model.parameters(), lr=learning_rate)\n",
    "\n",
    "\n",
    "list_of_epoch = [1,2,5,10,50,100,1000, 10000]\n",
    "\n",
    "#Trenowanie\n",
    "for epoch in range(num_epochs):\n",
    "    y_pred = model(X_train)\n",
    "    loss = loss_function(y_pred, y_train)\n",
    "\n",
    "    loss.backward()\n",
    "    optimizer.step()\n",
    "\n",
    "    optimizer.zero_grad()\n",
    "        \n",
    "    if (epoch+1) in list_of_epoch:\n",
    "        print(f'epoch: {epoch+1}, loss = {loss.item():.4f}')\n",
    "\n",
    "    with torch.no_grad():\n",
    "        y_pred_cls = y_pred.round()\n",
    "        acc = y_pred_cls.eq(y_train).sum() / float(y_train.shape[0])\n",
    "        if (epoch+1) in list_of_epoch:\n",
    "            print(f'epoch: {epoch+1}, accuracy: {acc.item():.4f}')\n"
   ]
  },
  {
   "cell_type": "markdown",
   "metadata": {},
   "source": [
    "**What feature is the most important for this neural network?**"
   ]
  },
  {
   "cell_type": "code",
   "execution_count": 65,
   "metadata": {},
   "outputs": [
    {
     "data": {
      "text/plain": [
       "OrderedDict([('linear.weight',\n",
       "              tensor([[-0.1105, -0.0408, -0.4490,  0.0151, -0.5874]])),\n",
       "             ('linear.bias', tensor([-0.0106]))])"
      ]
     },
     "execution_count": 65,
     "metadata": {},
     "output_type": "execute_result"
    }
   ],
   "source": [
    "model.state_dict()"
   ]
  },
  {
   "cell_type": "code",
   "execution_count": 76,
   "metadata": {},
   "outputs": [],
   "source": [
    "desc_l = []\n",
    "complexity_l = []\n",
    "ratios_l = []\n",
    "entropy_l = []\n",
    "cai_l = []\n",
    "\n",
    "for [desc, complexity, ratios, entropy, cai] in X_train:\n",
    "    desc_l.append(desc)\n",
    "    complexity_l.append(complexity)\n",
    "    ratios_l.append(ratios)\n",
    "    entropy_l.append(entropy)\n",
    "    cai_l.append(cai)\n",
    "\n",
    "desc_l_std = np.array(desc_l).std()\n",
    "complexity_l_std = np.array(complexity_l).std()\n",
    "ratios_l_std = np.array(ratios_l).std()\n",
    "entropy_l_std = np.array(entropy_l).std()\n",
    "cai_l_std = np.array(cai_l).std()"
   ]
  },
  {
   "cell_type": "code",
   "execution_count": 74,
   "metadata": {},
   "outputs": [],
   "source": [
    "desc_net = model.state_dict()['linear.weight'][0][0]\n",
    "complex_net = model.state_dict()['linear.weight'][0][1]\n",
    "ratios_net = model.state_dict()['linear.weight'][0][2]\n",
    "entropy_net = model.state_dict()['linear.weight'][0][3]\n",
    "cai_net = model.state_dict()['linear.weight'][0][4]"
   ]
  },
  {
   "cell_type": "code",
   "execution_count": 78,
   "metadata": {},
   "outputs": [
    {
     "name": "stdout",
     "output_type": "stream",
     "text": [
      "Updated linear weights from neural network:\n",
      " moments' of inertia descriptors: -0.11052517592906952,\n",
      " complexity of a sequence: -0.040805358439683914,\n",
      " ratios A/T and G/C of a sequence: -0.44902271032333374,\n",
      " entropy of a sequence: 0.01510620303452015,\n",
      " CAI of a sequence: -0.5874271988868713\n"
     ]
    }
   ],
   "source": [
    "desc_wei = desc_net*desc_l_std\n",
    "complex_wei = complex_net*complexity_l_std\n",
    "ratios_wei = ratios_net*ratios_l_std\n",
    "entropy_wei = entropy_net*entropy_l_std\n",
    "cai_wei = cai_net*cai_l_std\n",
    "\n",
    "print('Updated linear weights from neural network:\\n moments\\' of inertia descriptors: {},\\n complexity of a sequence: {},\\n ratios A/T and G/C of a sequence: {},\\n entropy of a sequence: {},\\n CAI of a sequence: {}'.format(desc_wei, complex_wei, ratios_wei, entropy_wei, cai_wei))"
   ]
  },
  {
   "cell_type": "markdown",
   "metadata": {},
   "source": [
    "# **List 2: mean spaces between thymines, moments of inertia, complexity, ratios A/T G/C, CAI**"
   ]
  },
  {
   "cell_type": "code",
   "execution_count": 80,
   "metadata": {},
   "outputs": [],
   "source": [
    "n_samples, n_features = X2.shape\n",
    "\n",
    "X_train, X_test, y_train, y_test = train_test_split(X2, y, test_size=0.2, random_state=1234)\n",
    "\n",
    "#normalizacja danych\n",
    "sc = StandardScaler()\n",
    "X_train = sc.fit_transform(X_train)\n",
    "X_test = sc.transform(X_test)\n",
    "\n",
    "#zmiana typu - na obiekty typu torch\n",
    "X_train = torch.from_numpy(X_train.astype(np.float32))\n",
    "X_test = torch.from_numpy(X_test.astype(np.float32))\n",
    "y_train = torch.from_numpy(y_train.astype(np.float32))\n",
    "y_test = torch.from_numpy(y_test.astype(np.float32))\n",
    "\n",
    "#zmiana wymiaru wektora kategorii\n",
    "y_train = y_train.view(y_train.shape[0], 1)\n",
    "y_test = y_test.view(y_test.shape[0], 1)"
   ]
  },
  {
   "cell_type": "code",
   "execution_count": 81,
   "metadata": {},
   "outputs": [],
   "source": [
    "model = Model(n_features)"
   ]
  },
  {
   "cell_type": "code",
   "execution_count": 82,
   "metadata": {
    "scrolled": true
   },
   "outputs": [
    {
     "name": "stdout",
     "output_type": "stream",
     "text": [
      "epoch: 1, loss = 0.6832\n",
      "epoch: 1, accuracy: 0.5547\n",
      "epoch: 2, loss = 0.6824\n",
      "epoch: 2, accuracy: 0.5558\n",
      "epoch: 5, loss = 0.6800\n",
      "epoch: 5, accuracy: 0.5580\n",
      "epoch: 10, loss = 0.6761\n",
      "epoch: 10, accuracy: 0.5615\n",
      "epoch: 50, loss = 0.6529\n",
      "epoch: 50, accuracy: 0.5853\n",
      "epoch: 100, loss = 0.6362\n",
      "epoch: 100, accuracy: 0.6118\n",
      "epoch: 1000, loss = 0.6123\n",
      "epoch: 1000, accuracy: 0.6599\n",
      "epoch: 10000, loss = 0.6122\n",
      "epoch: 10000, accuracy: 0.6607\n"
     ]
    }
   ],
   "source": [
    "num_epochs = 10000\n",
    "learning_rate = 0.03\n",
    "loss_function = nn.BCELoss() #binary cross-entropy \n",
    "optimizer = torch.optim.SGD(model.parameters(), lr=learning_rate)\n",
    "\n",
    "\n",
    "list_of_epoch = [1,2,5,10,50,100,1000, 10000]\n",
    "\n",
    "#Trenowanie\n",
    "for epoch in range(num_epochs):\n",
    "    y_pred = model(X_train)\n",
    "    loss = loss_function(y_pred, y_train)\n",
    "\n",
    "    loss.backward()\n",
    "    optimizer.step()\n",
    "\n",
    "    optimizer.zero_grad()\n",
    "        \n",
    "    if (epoch+1) in list_of_epoch:\n",
    "        print(f'epoch: {epoch+1}, loss = {loss.item():.4f}')\n",
    "\n",
    "    with torch.no_grad():\n",
    "        y_pred_cls = y_pred.round()\n",
    "        acc = y_pred_cls.eq(y_train).sum() / float(y_train.shape[0])\n",
    "        if (epoch+1) in list_of_epoch:\n",
    "            print(f'epoch: {epoch+1}, accuracy: {acc.item():.4f}')"
   ]
  },
  {
   "cell_type": "markdown",
   "metadata": {},
   "source": [
    "**What feature is the most important for this neural network?**"
   ]
  },
  {
   "cell_type": "code",
   "execution_count": 83,
   "metadata": {},
   "outputs": [
    {
     "data": {
      "text/plain": [
       "OrderedDict([('linear.weight',\n",
       "              tensor([[-0.7324, -0.5193, -0.0490, -0.2482,  0.4350]])),\n",
       "             ('linear.bias', tensor([-0.0251]))])"
      ]
     },
     "execution_count": 83,
     "metadata": {},
     "output_type": "execute_result"
    }
   ],
   "source": [
    "model.state_dict()"
   ]
  },
  {
   "cell_type": "code",
   "execution_count": 84,
   "metadata": {},
   "outputs": [],
   "source": [
    "cai_l = []\n",
    "ratios_l = []\n",
    "complex_l = []\n",
    "desc_l = []\n",
    "mean_T_l = []\n",
    "\n",
    "for [cai, ratios, complexity, desc, mean_T] in X_train:\n",
    "    cai_l.append(cai)\n",
    "    ratios_l.append(ratios)\n",
    "    complex_l.append(complexity)\n",
    "    desc_l.append(desc)\n",
    "    mean_T_l.append(mean_T)\n",
    "\n",
    "\n",
    "desc_l_std = np.array(desc_l).std()\n",
    "complexity_l_std = np.array(complex_l).std()\n",
    "ratios_l_std = np.array(ratios_l).std()\n",
    "mean_T_std = np.array(mean_T_l).std()\n",
    "cai_l_std = np.array(cai_l).std()"
   ]
  },
  {
   "cell_type": "code",
   "execution_count": 85,
   "metadata": {},
   "outputs": [],
   "source": [
    "cai_net = model.state_dict()['linear.weight'][0][0]\n",
    "ratios_net = model.state_dict()['linear.weight'][0][1]\n",
    "complex_net = model.state_dict()['linear.weight'][0][2]\n",
    "desc_net = model.state_dict()['linear.weight'][0][3]\n",
    "mean_T_net = model.state_dict()['linear.weight'][0][4]"
   ]
  },
  {
   "cell_type": "code",
   "execution_count": 87,
   "metadata": {},
   "outputs": [
    {
     "name": "stdout",
     "output_type": "stream",
     "text": [
      "Updated linear weights from neural network:\n",
      " moments' of inertia descriptors: -0.24820813536643982,\n",
      " complexity of a sequence: -0.04899732396006584,\n",
      " ratios A/T and G/C of a sequence: -0.5193230509757996,\n",
      " mean spaces between thymines in a sequence: 0.43502238392829895,\n",
      " CAI of a sequence: -0.7323585152626038\n"
     ]
    }
   ],
   "source": [
    "desc_wei = desc_net*desc_l_std\n",
    "complex_wei = complex_net*complexity_l_std\n",
    "ratios_wei = ratios_net*ratios_l_std\n",
    "mean_T_wei = mean_T_net*mean_T_std\n",
    "cai_wei = cai_net*cai_l_std\n",
    "\n",
    "print('Updated linear weights from neural network:\\n moments\\' of inertia descriptors: {},\\n complexity of a sequence: {},\\n ratios A/T and G/C of a sequence: {},\\n mean spaces between thymines in a sequence: {},\\n CAI of a sequence: {}'.format(desc_wei, complex_wei, ratios_wei, mean_T_wei, cai_wei))"
   ]
  },
  {
   "cell_type": "markdown",
   "metadata": {},
   "source": [
    "# **List 3: entropy, moments of inertia, mean spaces between thymines**"
   ]
  },
  {
   "cell_type": "code",
   "execution_count": 88,
   "metadata": {},
   "outputs": [],
   "source": [
    "n_samples, n_features = X3.shape\n",
    "\n",
    "X_train, X_test, y_train, y_test = train_test_split(X3, y, test_size=0.2, random_state=1234)\n",
    "\n",
    "#normalizacja danych\n",
    "sc = StandardScaler()\n",
    "X_train = sc.fit_transform(X_train)\n",
    "X_test = sc.transform(X_test)\n",
    "\n",
    "#zmiana typu - na obiekty typu torch\n",
    "X_train = torch.from_numpy(X_train.astype(np.float32))\n",
    "X_test = torch.from_numpy(X_test.astype(np.float32))\n",
    "y_train = torch.from_numpy(y_train.astype(np.float32))\n",
    "y_test = torch.from_numpy(y_test.astype(np.float32))\n",
    "\n",
    "#zmiana wymiaru wektora kategorii\n",
    "y_train = y_train.view(y_train.shape[0], 1)\n",
    "y_test = y_test.view(y_test.shape[0], 1)"
   ]
  },
  {
   "cell_type": "code",
   "execution_count": 89,
   "metadata": {},
   "outputs": [],
   "source": [
    "model = Model(n_features)"
   ]
  },
  {
   "cell_type": "code",
   "execution_count": 90,
   "metadata": {
    "scrolled": true
   },
   "outputs": [
    {
     "name": "stdout",
     "output_type": "stream",
     "text": [
      "epoch: 1, loss = 0.7509\n",
      "epoch: 1, accuracy: 0.5104\n",
      "epoch: 2, loss = 0.7501\n",
      "epoch: 2, accuracy: 0.5104\n",
      "epoch: 5, loss = 0.7477\n",
      "epoch: 5, accuracy: 0.5101\n",
      "epoch: 10, loss = 0.7439\n",
      "epoch: 10, accuracy: 0.5100\n",
      "epoch: 50, loss = 0.7208\n",
      "epoch: 50, accuracy: 0.5088\n",
      "epoch: 100, loss = 0.7050\n",
      "epoch: 100, accuracy: 0.5077\n",
      "epoch: 1000, loss = 0.6891\n",
      "epoch: 1000, accuracy: 0.5538\n",
      "epoch: 10000, loss = 0.6891\n",
      "epoch: 10000, accuracy: 0.5540\n"
     ]
    }
   ],
   "source": [
    "num_epochs = 10000\n",
    "learning_rate = 0.03\n",
    "loss_function = nn.BCELoss() #binary cross-entropy \n",
    "optimizer = torch.optim.SGD(model.parameters(), lr=learning_rate)\n",
    "\n",
    "\n",
    "list_of_epoch = [1,2,5,10,50,100,1000, 10000]\n",
    "\n",
    "#Trenowanie\n",
    "for epoch in range(num_epochs):\n",
    "    y_pred = model(X_train)\n",
    "    loss = loss_function(y_pred, y_train)\n",
    "\n",
    "    loss.backward()\n",
    "    optimizer.step()\n",
    "\n",
    "    optimizer.zero_grad()\n",
    "        \n",
    "    if (epoch+1) in list_of_epoch:\n",
    "        print(f'epoch: {epoch+1}, loss = {loss.item():.4f}')\n",
    "\n",
    "    with torch.no_grad():\n",
    "        y_pred_cls = y_pred.round()\n",
    "        acc = y_pred_cls.eq(y_train).sum() / float(y_train.shape[0])\n",
    "        if (epoch+1) in list_of_epoch:\n",
    "            print(f'epoch: {epoch+1}, accuracy: {acc.item():.4f}')"
   ]
  },
  {
   "cell_type": "markdown",
   "metadata": {},
   "source": [
    "**What feature is the most important for this neural network?**"
   ]
  },
  {
   "cell_type": "code",
   "execution_count": 91,
   "metadata": {},
   "outputs": [
    {
     "data": {
      "text/plain": [
       "OrderedDict([('linear.weight', tensor([[ 0.0194, -0.1110,  0.1847]])),\n",
       "             ('linear.bias', tensor([-0.0018]))])"
      ]
     },
     "execution_count": 91,
     "metadata": {},
     "output_type": "execute_result"
    }
   ],
   "source": [
    "model.state_dict()"
   ]
  },
  {
   "cell_type": "code",
   "execution_count": 92,
   "metadata": {},
   "outputs": [],
   "source": [
    "entropy_l = []\n",
    "desc_l = []\n",
    "mean_T_l = []\n",
    "\n",
    "for [entropy, desc, mean_T] in X_train:\n",
    "    entropy_l.append(entropy)\n",
    "    desc_l.append(desc)\n",
    "    mean_T_l.append(mean_T)\n",
    "\n",
    "\n",
    "desc_l_std = np.array(desc_l).std()\n",
    "mean_T_std = np.array(mean_T_l).std()\n",
    "entropy_l_std = np.array(entropy_l).std()"
   ]
  },
  {
   "cell_type": "code",
   "execution_count": 93,
   "metadata": {},
   "outputs": [],
   "source": [
    "entropy_net = model.state_dict()['linear.weight'][0][0]\n",
    "desc_net = model.state_dict()['linear.weight'][0][1]\n",
    "mean_T_net = model.state_dict()['linear.weight'][0][2]"
   ]
  },
  {
   "cell_type": "code",
   "execution_count": 94,
   "metadata": {},
   "outputs": [
    {
     "name": "stdout",
     "output_type": "stream",
     "text": [
      "Updated linear weights from neural network:\n",
      " moments' of inertia descriptors: -0.1110008955001831,\n",
      " mean spaces between thymines in a sequence: 0.1847081482410431,\n",
      " entropy of a sequence: 0.019402071833610535\n"
     ]
    }
   ],
   "source": [
    "desc_wei = desc_net*desc_l_std\n",
    "mean_T_wei = mean_T_net*mean_T_std\n",
    "entropy_wei = entropy_net*entropy_l_std\n",
    "\n",
    "print('Updated linear weights from neural network:\\n moments\\' of inertia descriptors: {},\\n mean spaces between thymines in a sequence: {},\\n entropy of a sequence: {}'.format(desc_wei, mean_T_wei, entropy_wei))"
   ]
  },
  {
   "cell_type": "markdown",
   "metadata": {},
   "source": [
    "# **List 4: all features except mean spaces between cytosines and thymines**"
   ]
  },
  {
   "cell_type": "code",
   "execution_count": 109,
   "metadata": {},
   "outputs": [],
   "source": [
    "n_samples, n_features = X4.shape\n",
    "\n",
    "X_train, X_test, y_train, y_test = train_test_split(X4, y, test_size=0.2, random_state=1234)\n",
    "\n",
    "#normalizacja danych\n",
    "sc = StandardScaler()\n",
    "X_train = sc.fit_transform(X_train)\n",
    "X_test = sc.transform(X_test)\n",
    "\n",
    "#zmiana typu - na obiekty typu torch\n",
    "X_train = torch.from_numpy(X_train.astype(np.float32))\n",
    "X_test = torch.from_numpy(X_test.astype(np.float32))\n",
    "y_train = torch.from_numpy(y_train.astype(np.float32))\n",
    "y_test = torch.from_numpy(y_test.astype(np.float32))\n",
    "\n",
    "#zmiana wymiaru wektora kategorii\n",
    "y_train = y_train.view(y_train.shape[0], 1)\n",
    "y_test = y_test.view(y_test.shape[0], 1)"
   ]
  },
  {
   "cell_type": "code",
   "execution_count": 110,
   "metadata": {},
   "outputs": [],
   "source": [
    "model = Model(n_features)"
   ]
  },
  {
   "cell_type": "code",
   "execution_count": 111,
   "metadata": {},
   "outputs": [
    {
     "name": "stdout",
     "output_type": "stream",
     "text": [
      "epoch: 1, loss = 0.7293\n",
      "epoch: 1, accuracy: 0.4968\n",
      "epoch: 2, loss = 0.7281\n",
      "epoch: 2, accuracy: 0.4984\n",
      "epoch: 5, loss = 0.7245\n",
      "epoch: 5, accuracy: 0.5024\n",
      "epoch: 10, loss = 0.7187\n",
      "epoch: 10, accuracy: 0.5082\n",
      "epoch: 50, loss = 0.6848\n",
      "epoch: 50, accuracy: 0.5597\n",
      "epoch: 100, loss = 0.6613\n",
      "epoch: 100, accuracy: 0.6005\n",
      "epoch: 1000, loss = 0.6240\n",
      "epoch: 1000, accuracy: 0.6440\n",
      "epoch: 10000, loss = 0.6236\n",
      "epoch: 10000, accuracy: 0.6449\n"
     ]
    }
   ],
   "source": [
    "num_epochs = 10000\n",
    "learning_rate = 0.03\n",
    "loss_function = nn.BCELoss() #binary cross-entropy \n",
    "optimizer = torch.optim.SGD(model.parameters(), lr=learning_rate)\n",
    "\n",
    "\n",
    "list_of_epoch = [1,2,5,10,50,100,1000, 10000]\n",
    "\n",
    "#Trenowanie\n",
    "for epoch in range(num_epochs):\n",
    "    y_pred = model(X_train)\n",
    "    loss = loss_function(y_pred, y_train)\n",
    "\n",
    "    loss.backward()\n",
    "    optimizer.step()\n",
    "\n",
    "    optimizer.zero_grad()\n",
    "        \n",
    "    if (epoch+1) in list_of_epoch:\n",
    "        print(f'epoch: {epoch+1}, loss = {loss.item():.4f}')\n",
    "\n",
    "    with torch.no_grad():\n",
    "        y_pred_cls = y_pred.round()\n",
    "        acc = y_pred_cls.eq(y_train).sum() / float(y_train.shape[0])\n",
    "        if (epoch+1) in list_of_epoch:\n",
    "            print(f'epoch: {epoch+1}, accuracy: {acc.item():.4f}')"
   ]
  },
  {
   "cell_type": "markdown",
   "metadata": {},
   "source": [
    "**What feature is the most important for this neural network?**"
   ]
  },
  {
   "cell_type": "code",
   "execution_count": 112,
   "metadata": {
    "scrolled": true
   },
   "outputs": [
    {
     "data": {
      "text/plain": [
       "OrderedDict([('linear.weight',\n",
       "              tensor([[-0.2312, -0.0707, -0.5083, -0.0655, -0.7396, -0.1231, -0.4496]])),\n",
       "             ('linear.bias', tensor([-0.0237]))])"
      ]
     },
     "execution_count": 112,
     "metadata": {},
     "output_type": "execute_result"
    }
   ],
   "source": [
    "model.state_dict()"
   ]
  },
  {
   "cell_type": "code",
   "execution_count": 113,
   "metadata": {},
   "outputs": [],
   "source": [
    "desc_l = []\n",
    "complex_l = []\n",
    "ratios_l = []\n",
    "entropy_l = []\n",
    "cai_l = []\n",
    "mean_A_l = []\n",
    "mean_G_l = []\n",
    "\n",
    "for [desc, complexity, ratios, entropy, cai, mean_A, mean_G] in X_train:\n",
    "    desc_l.append(desc)\n",
    "    complex_l.append(complexity)\n",
    "    ratios_l.append(ratios)\n",
    "    entropy_l.append(entropy)\n",
    "    cai_l.append(cai)\n",
    "    mean_A_l.append(mean_A)\n",
    "    mean_G_l.append(mean_G)\n",
    "\n",
    "\n",
    "desc_l_std = np.array(desc_l).std()\n",
    "complexity_l_std = np.array(complex_l).std()\n",
    "ratios_l_std = np.array(ratios_l).std()\n",
    "mean_A_std = np.array(mean_A_l).std()\n",
    "mean_G_std = np.array(mean_G_l).std()\n",
    "cai_l_std = np.array(cai_l).std()\n",
    "entropy_l_std = np.array(entropy_l).std()"
   ]
  },
  {
   "cell_type": "code",
   "execution_count": 114,
   "metadata": {},
   "outputs": [],
   "source": [
    "desc_net = model.state_dict()['linear.weight'][0][0]\n",
    "complex_net = model.state_dict()['linear.weight'][0][1]\n",
    "ratios_net = model.state_dict()['linear.weight'][0][2]\n",
    "entropy_net = model.state_dict()['linear.weight'][0][3]\n",
    "cai_net = model.state_dict()['linear.weight'][0][4]\n",
    "mean_A_net = model.state_dict()['linear.weight'][0][5]\n",
    "mean_G_net = model.state_dict()['linear.weight'][0][6]"
   ]
  },
  {
   "cell_type": "code",
   "execution_count": 116,
   "metadata": {},
   "outputs": [
    {
     "name": "stdout",
     "output_type": "stream",
     "text": [
      "Updated linear weights from neural network:\n",
      " moments' of inertia descriptors: -0.23120538890361786,\n",
      " complexity of a sequence: -0.07071498036384583,\n",
      " ratios A/T and G/C of a sequence: -0.5082591772079468,\n",
      " mean spaces between adenines in a sequence: -0.12312116473913193,\n",
      " mean spaces between guanines in a sequence: -0.44958198070526123,\n",
      " CAI of a sequence: -0.7395674586296082,\n",
      " entropy of a sequence -0.06553258746862411\n"
     ]
    }
   ],
   "source": [
    "desc_wei = desc_net*desc_l_std\n",
    "complex_wei = complex_net*complexity_l_std\n",
    "ratios_wei = ratios_net*ratios_l_std\n",
    "mean_A_wei = mean_A_net*mean_A_std\n",
    "mean_G_wei = mean_G_net*mean_G_std\n",
    "cai_wei = cai_net*cai_l_std\n",
    "entropy_wei = entropy_net*entropy_l_std\n",
    "\n",
    "print('Updated linear weights from neural network:\\n moments\\' of inertia descriptors: {},\\n complexity of a sequence: {},\\n ratios A/T and G/C of a sequence: {},\\n mean spaces between adenines in a sequence: {},\\n mean spaces between guanines in a sequence: {},\\n CAI of a sequence: {},\\n entropy of a sequence {}'.format(desc_wei, complex_wei, ratios_wei, mean_A_wei, mean_G_wei, cai_wei, entropy_wei))"
   ]
  },
  {
   "cell_type": "markdown",
   "metadata": {},
   "source": [
    "# **List 5: all features**"
   ]
  },
  {
   "cell_type": "code",
   "execution_count": 117,
   "metadata": {},
   "outputs": [],
   "source": [
    "n_samples, n_features = X5.shape\n",
    "\n",
    "X_train, X_test, y_train, y_test = train_test_split(X5, y, test_size=0.2, random_state=1234)\n",
    "\n",
    "#normalizacja danych\n",
    "sc = StandardScaler()\n",
    "X_train = sc.fit_transform(X_train)\n",
    "X_test = sc.transform(X_test)\n",
    "\n",
    "#zmiana typu - na obiekty typu torch\n",
    "X_train = torch.from_numpy(X_train.astype(np.float32))\n",
    "X_test = torch.from_numpy(X_test.astype(np.float32))\n",
    "y_train = torch.from_numpy(y_train.astype(np.float32))\n",
    "y_test = torch.from_numpy(y_test.astype(np.float32))\n",
    "\n",
    "#zmiana wymiaru wektora kategorii\n",
    "y_train = y_train.view(y_train.shape[0], 1)\n",
    "y_test = y_test.view(y_test.shape[0], 1)"
   ]
  },
  {
   "cell_type": "code",
   "execution_count": 118,
   "metadata": {},
   "outputs": [],
   "source": [
    "model = Model(n_features)"
   ]
  },
  {
   "cell_type": "code",
   "execution_count": 119,
   "metadata": {},
   "outputs": [
    {
     "name": "stdout",
     "output_type": "stream",
     "text": [
      "epoch: 1, loss = 0.7595\n",
      "epoch: 1, accuracy: 0.5358\n",
      "epoch: 2, loss = 0.7559\n",
      "epoch: 2, accuracy: 0.5392\n",
      "epoch: 5, loss = 0.7458\n",
      "epoch: 5, accuracy: 0.5468\n",
      "epoch: 10, loss = 0.7306\n",
      "epoch: 10, accuracy: 0.5574\n",
      "epoch: 50, loss = 0.6624\n",
      "epoch: 50, accuracy: 0.6051\n",
      "epoch: 100, loss = 0.6343\n",
      "epoch: 100, accuracy: 0.6370\n",
      "epoch: 1000, loss = 0.6088\n",
      "epoch: 1000, accuracy: 0.6666\n",
      "epoch: 10000, loss = 0.6088\n",
      "epoch: 10000, accuracy: 0.6664\n"
     ]
    }
   ],
   "source": [
    "num_epochs = 10000\n",
    "learning_rate = 0.03\n",
    "loss_function = nn.BCELoss() #binary cross-entropy \n",
    "optimizer = torch.optim.SGD(model.parameters(), lr=learning_rate)\n",
    "\n",
    "\n",
    "list_of_epoch = [1,2,5,10,50,100,1000, 10000]\n",
    "\n",
    "#Trenowanie\n",
    "for epoch in range(num_epochs):\n",
    "    y_pred = model(X_train)\n",
    "    loss = loss_function(y_pred, y_train)\n",
    "\n",
    "    loss.backward()\n",
    "    optimizer.step()\n",
    "\n",
    "    optimizer.zero_grad()\n",
    "        \n",
    "    if (epoch+1) in list_of_epoch:\n",
    "        print(f'epoch: {epoch+1}, loss = {loss.item():.4f}')\n",
    "\n",
    "    with torch.no_grad():\n",
    "        y_pred_cls = y_pred.round()\n",
    "        acc = y_pred_cls.eq(y_train).sum() / float(y_train.shape[0])\n",
    "        if (epoch+1) in list_of_epoch:\n",
    "            print(f'epoch: {epoch+1}, accuracy: {acc.item():.4f}')"
   ]
  },
  {
   "cell_type": "markdown",
   "metadata": {},
   "source": [
    "**What feature is the most important for this neural network?**"
   ]
  },
  {
   "cell_type": "code",
   "execution_count": 120,
   "metadata": {},
   "outputs": [
    {
     "data": {
      "text/plain": [
       "OrderedDict([('linear.weight',\n",
       "              tensor([[-0.2635, -0.0293, -0.3549,  0.1685, -0.8149,  0.3868,  0.0230, -0.2559,\n",
       "                        0.0902]])),\n",
       "             ('linear.bias', tensor([-0.0262]))])"
      ]
     },
     "execution_count": 120,
     "metadata": {},
     "output_type": "execute_result"
    }
   ],
   "source": [
    "model.state_dict()"
   ]
  },
  {
   "cell_type": "code",
   "execution_count": 121,
   "metadata": {},
   "outputs": [],
   "source": [
    "desc_l = []\n",
    "complex_l = []\n",
    "ratios_l = []\n",
    "entropy_l = []\n",
    "cai_l = []\n",
    "mean_T_l = []\n",
    "mean_A_l = []\n",
    "mean_C_l = []\n",
    "mean_G_l = []\n",
    "\n",
    "for [desc, complexity, ratios, entropy, cai, mean_T, mean_A, mean_C, mean_G] in X_train:\n",
    "    desc_l.append(desc)\n",
    "    complex_l.append(complexity)\n",
    "    ratios_l.append(ratios)\n",
    "    entropy_l.append(entropy)\n",
    "    cai_l.append(cai)\n",
    "    mean_A_l.append(mean_A)\n",
    "    mean_G_l.append(mean_G)\n",
    "    mean_T_l.append(mean_T)\n",
    "    mean_C_l.append(mean_C)\n",
    "\n",
    "\n",
    "desc_l_std = np.array(desc_l).std()\n",
    "complexity_l_std = np.array(complex_l).std()\n",
    "ratios_l_std = np.array(ratios_l).std()\n",
    "mean_A_std = np.array(mean_A_l).std()\n",
    "mean_G_std = np.array(mean_G_l).std()\n",
    "mean_C_std = np.array(mean_C_l).std()\n",
    "mean_T_std = np.array(mean_T_l).std()\n",
    "cai_l_std = np.array(cai_l).std()\n",
    "entropy_l_std = np.array(entropy_l).std()"
   ]
  },
  {
   "cell_type": "code",
   "execution_count": 122,
   "metadata": {},
   "outputs": [],
   "source": [
    "desc_net = model.state_dict()['linear.weight'][0][0]\n",
    "complex_net = model.state_dict()['linear.weight'][0][1]\n",
    "ratios_net = model.state_dict()['linear.weight'][0][2]\n",
    "entropy_net = model.state_dict()['linear.weight'][0][3]\n",
    "cai_net = model.state_dict()['linear.weight'][0][4]\n",
    "mean_T_net = model.state_dict()['linear.weight'][0][5]\n",
    "mean_A_net = model.state_dict()['linear.weight'][0][6]\n",
    "mean_C_net = model.state_dict()['linear.weight'][0][7]\n",
    "mean_G_net = model.state_dict()['linear.weight'][0][8]"
   ]
  },
  {
   "cell_type": "code",
   "execution_count": 124,
   "metadata": {},
   "outputs": [
    {
     "name": "stdout",
     "output_type": "stream",
     "text": [
      "Updated linear weights from neural network:\n",
      " moments' of inertia descriptors: -0.2635487914085388,\n",
      " complexity of a sequence: -0.029326550662517548,\n",
      " ratios A/T and G/C of a sequence: -0.35487258434295654,\n",
      " mean spaces between adenines in a sequence: 0.02300909347832203,\n",
      " mean spaces between guanines in a sequence: 0.09024155139923096,\n",
      " mean spaces between thymines in a sequence: 0.3868311047554016,\n",
      " mean spaces between cytosines in a sequence: -0.25589653849601746,\n",
      " CAI of a sequence: -0.8148660063743591,\n",
      " entropy of a sequence 0.1684950739145279\n"
     ]
    }
   ],
   "source": [
    "desc_wei = desc_net*desc_l_std\n",
    "complex_wei = complex_net*complexity_l_std\n",
    "ratios_wei = ratios_net*ratios_l_std\n",
    "mean_A_wei = mean_A_net*mean_A_std\n",
    "mean_G_wei = mean_G_net*mean_G_std\n",
    "mean_T_wei = mean_T_net*mean_T_std\n",
    "mean_C_wei = mean_C_net*mean_C_std\n",
    "cai_wei = cai_net*cai_l_std\n",
    "entropy_wei = entropy_net*entropy_l_std\n",
    "\n",
    "print('Updated linear weights from neural network:\\n moments\\' of inertia descriptors: {},\\n complexity of a sequence: {},\\n ratios A/T and G/C of a sequence: {},\\n mean spaces between adenines in a sequence: {},\\n mean spaces between guanines in a sequence: {},\\n mean spaces between thymines in a sequence: {},\\n mean spaces between cytosines in a sequence: {},\\n CAI of a sequence: {},\\n entropy of a sequence {}'.format(desc_wei, complex_wei, ratios_wei, mean_A_wei, mean_G_wei, mean_T_wei, mean_C_wei, cai_wei, entropy_wei))"
   ]
  }
 ],
 "metadata": {
  "kernelspec": {
   "display_name": "Python 3",
   "language": "python",
   "name": "python3"
  },
  "language_info": {
   "codemirror_mode": {
    "name": "ipython",
    "version": 3
   },
   "file_extension": ".py",
   "mimetype": "text/x-python",
   "name": "python",
   "nbconvert_exporter": "python",
   "pygments_lexer": "ipython3",
   "version": "3.8.8"
  }
 },
 "nbformat": 4,
 "nbformat_minor": 4
}
