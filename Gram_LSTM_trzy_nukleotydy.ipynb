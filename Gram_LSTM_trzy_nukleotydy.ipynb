{
  "nbformat": 4,
  "nbformat_minor": 0,
  "metadata": {
    "colab": {
      "provenance": []
    },
    "kernelspec": {
      "name": "python3",
      "display_name": "Python 3"
    },
    "language_info": {
      "name": "python"
    },
    "widgets": {
      "application/vnd.jupyter.widget-state+json": {
        "928f5d5c0cac48ca8be45f60e6c62a6f": {
          "model_module": "@jupyter-widgets/controls",
          "model_name": "HBoxModel",
          "model_module_version": "1.5.0",
          "state": {
            "_dom_classes": [],
            "_model_module": "@jupyter-widgets/controls",
            "_model_module_version": "1.5.0",
            "_model_name": "HBoxModel",
            "_view_count": null,
            "_view_module": "@jupyter-widgets/controls",
            "_view_module_version": "1.5.0",
            "_view_name": "HBoxView",
            "box_style": "",
            "children": [
              "IPY_MODEL_3d6ed5ebbafe469db9b08ab1b0295d14",
              "IPY_MODEL_628366852d344c09ae4a283d385cd139",
              "IPY_MODEL_e77bb04567f54151a25a3bedd434f6f4"
            ],
            "layout": "IPY_MODEL_43233448772b4226b64a2cfe08299385"
          }
        },
        "3d6ed5ebbafe469db9b08ab1b0295d14": {
          "model_module": "@jupyter-widgets/controls",
          "model_name": "HTMLModel",
          "model_module_version": "1.5.0",
          "state": {
            "_dom_classes": [],
            "_model_module": "@jupyter-widgets/controls",
            "_model_module_version": "1.5.0",
            "_model_name": "HTMLModel",
            "_view_count": null,
            "_view_module": "@jupyter-widgets/controls",
            "_view_module_version": "1.5.0",
            "_view_name": "HTMLView",
            "description": "",
            "description_tooltip": null,
            "layout": "IPY_MODEL_c280a7b1bbe7474ea094bae5740f8c70",
            "placeholder": "​",
            "style": "IPY_MODEL_eeb959d96bb24051b6ab1fdb0847a928",
            "value": "  0%"
          }
        },
        "628366852d344c09ae4a283d385cd139": {
          "model_module": "@jupyter-widgets/controls",
          "model_name": "FloatProgressModel",
          "model_module_version": "1.5.0",
          "state": {
            "_dom_classes": [],
            "_model_module": "@jupyter-widgets/controls",
            "_model_module_version": "1.5.0",
            "_model_name": "FloatProgressModel",
            "_view_count": null,
            "_view_module": "@jupyter-widgets/controls",
            "_view_module_version": "1.5.0",
            "_view_name": "ProgressView",
            "bar_style": "danger",
            "description": "",
            "description_tooltip": null,
            "layout": "IPY_MODEL_98cff38533ae4064b8366c5f97e577ee",
            "max": 5,
            "min": 0,
            "orientation": "horizontal",
            "style": "IPY_MODEL_22d4d3fab1104b28a5a0484d69ac54bd",
            "value": 0
          }
        },
        "e77bb04567f54151a25a3bedd434f6f4": {
          "model_module": "@jupyter-widgets/controls",
          "model_name": "HTMLModel",
          "model_module_version": "1.5.0",
          "state": {
            "_dom_classes": [],
            "_model_module": "@jupyter-widgets/controls",
            "_model_module_version": "1.5.0",
            "_model_name": "HTMLModel",
            "_view_count": null,
            "_view_module": "@jupyter-widgets/controls",
            "_view_module_version": "1.5.0",
            "_view_name": "HTMLView",
            "description": "",
            "description_tooltip": null,
            "layout": "IPY_MODEL_bfcc76e7294345bea0a6d24a6f5ede31",
            "placeholder": "​",
            "style": "IPY_MODEL_ae3493b1b8bf4243883347dd11b3644c",
            "value": " 0/5 [00:05&lt;?, ?it/s]"
          }
        },
        "43233448772b4226b64a2cfe08299385": {
          "model_module": "@jupyter-widgets/base",
          "model_name": "LayoutModel",
          "model_module_version": "1.2.0",
          "state": {
            "_model_module": "@jupyter-widgets/base",
            "_model_module_version": "1.2.0",
            "_model_name": "LayoutModel",
            "_view_count": null,
            "_view_module": "@jupyter-widgets/base",
            "_view_module_version": "1.2.0",
            "_view_name": "LayoutView",
            "align_content": null,
            "align_items": null,
            "align_self": null,
            "border": null,
            "bottom": null,
            "display": null,
            "flex": null,
            "flex_flow": null,
            "grid_area": null,
            "grid_auto_columns": null,
            "grid_auto_flow": null,
            "grid_auto_rows": null,
            "grid_column": null,
            "grid_gap": null,
            "grid_row": null,
            "grid_template_areas": null,
            "grid_template_columns": null,
            "grid_template_rows": null,
            "height": null,
            "justify_content": null,
            "justify_items": null,
            "left": null,
            "margin": null,
            "max_height": null,
            "max_width": null,
            "min_height": null,
            "min_width": null,
            "object_fit": null,
            "object_position": null,
            "order": null,
            "overflow": null,
            "overflow_x": null,
            "overflow_y": null,
            "padding": null,
            "right": null,
            "top": null,
            "visibility": null,
            "width": null
          }
        },
        "c280a7b1bbe7474ea094bae5740f8c70": {
          "model_module": "@jupyter-widgets/base",
          "model_name": "LayoutModel",
          "model_module_version": "1.2.0",
          "state": {
            "_model_module": "@jupyter-widgets/base",
            "_model_module_version": "1.2.0",
            "_model_name": "LayoutModel",
            "_view_count": null,
            "_view_module": "@jupyter-widgets/base",
            "_view_module_version": "1.2.0",
            "_view_name": "LayoutView",
            "align_content": null,
            "align_items": null,
            "align_self": null,
            "border": null,
            "bottom": null,
            "display": null,
            "flex": null,
            "flex_flow": null,
            "grid_area": null,
            "grid_auto_columns": null,
            "grid_auto_flow": null,
            "grid_auto_rows": null,
            "grid_column": null,
            "grid_gap": null,
            "grid_row": null,
            "grid_template_areas": null,
            "grid_template_columns": null,
            "grid_template_rows": null,
            "height": null,
            "justify_content": null,
            "justify_items": null,
            "left": null,
            "margin": null,
            "max_height": null,
            "max_width": null,
            "min_height": null,
            "min_width": null,
            "object_fit": null,
            "object_position": null,
            "order": null,
            "overflow": null,
            "overflow_x": null,
            "overflow_y": null,
            "padding": null,
            "right": null,
            "top": null,
            "visibility": null,
            "width": null
          }
        },
        "eeb959d96bb24051b6ab1fdb0847a928": {
          "model_module": "@jupyter-widgets/controls",
          "model_name": "DescriptionStyleModel",
          "model_module_version": "1.5.0",
          "state": {
            "_model_module": "@jupyter-widgets/controls",
            "_model_module_version": "1.5.0",
            "_model_name": "DescriptionStyleModel",
            "_view_count": null,
            "_view_module": "@jupyter-widgets/base",
            "_view_module_version": "1.2.0",
            "_view_name": "StyleView",
            "description_width": ""
          }
        },
        "98cff38533ae4064b8366c5f97e577ee": {
          "model_module": "@jupyter-widgets/base",
          "model_name": "LayoutModel",
          "model_module_version": "1.2.0",
          "state": {
            "_model_module": "@jupyter-widgets/base",
            "_model_module_version": "1.2.0",
            "_model_name": "LayoutModel",
            "_view_count": null,
            "_view_module": "@jupyter-widgets/base",
            "_view_module_version": "1.2.0",
            "_view_name": "LayoutView",
            "align_content": null,
            "align_items": null,
            "align_self": null,
            "border": null,
            "bottom": null,
            "display": null,
            "flex": null,
            "flex_flow": null,
            "grid_area": null,
            "grid_auto_columns": null,
            "grid_auto_flow": null,
            "grid_auto_rows": null,
            "grid_column": null,
            "grid_gap": null,
            "grid_row": null,
            "grid_template_areas": null,
            "grid_template_columns": null,
            "grid_template_rows": null,
            "height": null,
            "justify_content": null,
            "justify_items": null,
            "left": null,
            "margin": null,
            "max_height": null,
            "max_width": null,
            "min_height": null,
            "min_width": null,
            "object_fit": null,
            "object_position": null,
            "order": null,
            "overflow": null,
            "overflow_x": null,
            "overflow_y": null,
            "padding": null,
            "right": null,
            "top": null,
            "visibility": null,
            "width": null
          }
        },
        "22d4d3fab1104b28a5a0484d69ac54bd": {
          "model_module": "@jupyter-widgets/controls",
          "model_name": "ProgressStyleModel",
          "model_module_version": "1.5.0",
          "state": {
            "_model_module": "@jupyter-widgets/controls",
            "_model_module_version": "1.5.0",
            "_model_name": "ProgressStyleModel",
            "_view_count": null,
            "_view_module": "@jupyter-widgets/base",
            "_view_module_version": "1.2.0",
            "_view_name": "StyleView",
            "bar_color": null,
            "description_width": ""
          }
        },
        "bfcc76e7294345bea0a6d24a6f5ede31": {
          "model_module": "@jupyter-widgets/base",
          "model_name": "LayoutModel",
          "model_module_version": "1.2.0",
          "state": {
            "_model_module": "@jupyter-widgets/base",
            "_model_module_version": "1.2.0",
            "_model_name": "LayoutModel",
            "_view_count": null,
            "_view_module": "@jupyter-widgets/base",
            "_view_module_version": "1.2.0",
            "_view_name": "LayoutView",
            "align_content": null,
            "align_items": null,
            "align_self": null,
            "border": null,
            "bottom": null,
            "display": null,
            "flex": null,
            "flex_flow": null,
            "grid_area": null,
            "grid_auto_columns": null,
            "grid_auto_flow": null,
            "grid_auto_rows": null,
            "grid_column": null,
            "grid_gap": null,
            "grid_row": null,
            "grid_template_areas": null,
            "grid_template_columns": null,
            "grid_template_rows": null,
            "height": null,
            "justify_content": null,
            "justify_items": null,
            "left": null,
            "margin": null,
            "max_height": null,
            "max_width": null,
            "min_height": null,
            "min_width": null,
            "object_fit": null,
            "object_position": null,
            "order": null,
            "overflow": null,
            "overflow_x": null,
            "overflow_y": null,
            "padding": null,
            "right": null,
            "top": null,
            "visibility": null,
            "width": null
          }
        },
        "ae3493b1b8bf4243883347dd11b3644c": {
          "model_module": "@jupyter-widgets/controls",
          "model_name": "DescriptionStyleModel",
          "model_module_version": "1.5.0",
          "state": {
            "_model_module": "@jupyter-widgets/controls",
            "_model_module_version": "1.5.0",
            "_model_name": "DescriptionStyleModel",
            "_view_count": null,
            "_view_module": "@jupyter-widgets/base",
            "_view_module_version": "1.2.0",
            "_view_name": "StyleView",
            "description_width": ""
          }
        }
      }
    }
  },
  "cells": [
    {
      "cell_type": "code",
      "metadata": {
        "id": "TZ-6Wp0cF2LZ"
      },
      "source": [
        "import torch\n",
        "import re\n",
        "import torch.nn as nn\n",
        "import torch.nn.functional as F\n",
        "import torch.optim as optim\n",
        "import torchtext\n",
        "import numpy as np\n",
        "import matplotlib.pyplot as plt\n",
        "import random\n",
        "import io\n",
        "import os\n",
        "import torchtext\n",
        "from tqdm.notebook import tqdm"
      ],
      "execution_count": null,
      "outputs": []
    },
    {
      "cell_type": "code",
      "metadata": {
        "id": "F2LRQUiTpRJ4"
      },
      "source": [
        "with open('gram_minus_ess_new.txt','r') as f:\n",
        "    e_file = f.read()\n",
        "\n",
        "with open('gram_minus_ness_new.txt','r') as f1:\n",
        "    n_file = f1.read()\n",
        "    \n",
        "x = re.split('>(DEG\\d+)\\n([ATGC\\n]+)', e_file)\n",
        "v = [i.replace('\\n','') for i in x]\n",
        "\n",
        "x2 = re.split('>(DNEG\\d+)\\n([ATGC\\n]+)', n_file)\n",
        "v2 = [i.replace('\\n','') for i in x2]\n",
        "\n",
        "e_names = []\n",
        "e_seq = []\n",
        "\n",
        "for i in v:\n",
        "    match1= re.search('^[ATGC]+$',i)\n",
        "    match2= re.search('>?DEG',i)\n",
        "    if match2:\n",
        "        if not 'available' in i:\n",
        "            e_names.append(i)\n",
        "    else:\n",
        "        if match1:\n",
        "            e_seq.append(i)\n",
        "\n",
        "n_names = []\n",
        "n_seq = []\n",
        "\n",
        "for i in v2:\n",
        "    match1= re.search('^[ATGC]+$',i)\n",
        "    match2= re.search('>?DNEG',i)\n",
        "    if match2:\n",
        "        if not 'available' in i:\n",
        "            n_names.append(i)\n",
        "    else:\n",
        "        if match1:\n",
        "            n_seq.append(i)"
      ],
      "execution_count": null,
      "outputs": []
    },
    {
      "cell_type": "code",
      "source": [
        "with open('gram_plus_ess_new.txt','r') as f:\n",
        "    e_file = f.read()\n",
        "\n",
        "with open('gram_plus_ness_new.txt','r') as f1:\n",
        "    n_file = f1.read()\n",
        "    \n",
        "x = re.split('>(DEG\\d+)\\n([ATGC\\n]+)', e_file)\n",
        "v = [i.replace('\\n','') for i in x]\n",
        "\n",
        "x2 = re.split('>(DNEG\\d+)\\n([ATGC\\n]+)', n_file)\n",
        "v2 = [i.replace('\\n','') for i in x2]\n",
        "\n",
        "e_names2 = []\n",
        "e_seq2 = []\n",
        "\n",
        "for i in v:\n",
        "    match1= re.search('^[ATGC]+$',i)\n",
        "    match2= re.search('>?DEG',i)\n",
        "    if match2:\n",
        "        if not 'available' in i:\n",
        "            e_names2.append(i)\n",
        "    else:\n",
        "        if match1:\n",
        "            e_seq2.append(i)\n",
        "\n",
        "n_names2 = []\n",
        "n_seq2 = []\n",
        "\n",
        "for i in v2:\n",
        "    match1= re.search('^[ATGC]+$',i)\n",
        "    match2= re.search('>?DNEG',i)\n",
        "    if match2:\n",
        "        if not 'available' in i:\n",
        "            n_names2.append(i)\n",
        "    else:\n",
        "        if match1:\n",
        "            n_seq2.append(i)"
      ],
      "metadata": {
        "id": "eK_rGup6XuW-"
      },
      "execution_count": null,
      "outputs": []
    },
    {
      "cell_type": "code",
      "metadata": {
        "id": "TY41-PwlKiO1"
      },
      "source": [
        "def seq_with_label(seq, label):\n",
        "    \n",
        "    words_labels = []\n",
        "    \n",
        "    for s in seq:\n",
        "            \n",
        "        words_labels.append([label, s])\n",
        "            \n",
        "    return words_labels"
      ],
      "execution_count": null,
      "outputs": []
    },
    {
      "cell_type": "code",
      "metadata": {
        "id": "T2X7S8kruY1S"
      },
      "source": [
        "e_data = seq_with_label(e_seq, 'e')\n",
        "ne_data = seq_with_label(n_seq, 'n')"
      ],
      "execution_count": null,
      "outputs": []
    },
    {
      "cell_type": "code",
      "source": [
        "e_data2 = seq_with_label(e_seq2, 'e')\n",
        "ne_data2 = seq_with_label(n_seq2, 'n')"
      ],
      "metadata": {
        "id": "CinEA2HXX_5v"
      },
      "execution_count": null,
      "outputs": []
    },
    {
      "cell_type": "code",
      "source": [
        "len(e_data)"
      ],
      "metadata": {
        "colab": {
          "base_uri": "https://localhost:8080/"
        },
        "id": "RMI3OLejYFLX",
        "outputId": "66636561-ba69-4f93-814a-0366d1029c22"
      },
      "execution_count": null,
      "outputs": [
        {
          "output_type": "execute_result",
          "data": {
            "text/plain": [
              "13266"
            ]
          },
          "metadata": {},
          "execution_count": 69
        }
      ]
    },
    {
      "cell_type": "code",
      "source": [
        "len(e_data2)"
      ],
      "metadata": {
        "colab": {
          "base_uri": "https://localhost:8080/"
        },
        "id": "Sr5kwsYHYICQ",
        "outputId": "c3a14c42-fcf8-47bf-9b5d-becaa3e6522d"
      },
      "execution_count": null,
      "outputs": [
        {
          "output_type": "execute_result",
          "data": {
            "text/plain": [
              "5509"
            ]
          },
          "metadata": {},
          "execution_count": 70
        }
      ]
    },
    {
      "cell_type": "code",
      "metadata": {
        "id": "XLH0Nx4kuema"
      },
      "source": [
        "e_len = len(e_data2)\n",
        "\n",
        "data = e_data[:e_len] + ne_data[:e_len]"
      ],
      "execution_count": null,
      "outputs": []
    },
    {
      "cell_type": "code",
      "metadata": {
        "id": "yK3vbad9uh1a"
      },
      "source": [
        "random.shuffle(data2)"
      ],
      "execution_count": null,
      "outputs": []
    },
    {
      "cell_type": "code",
      "metadata": {
        "id": "yOb_lfL_I6RR"
      },
      "source": [
        "import csv"
      ],
      "execution_count": null,
      "outputs": []
    },
    {
      "cell_type": "code",
      "metadata": {
        "id": "tZHlUOXWKmBs"
      },
      "source": [
        "with open('genes_with_labels.tsv', 'wt') as file:\n",
        "    tsv_writer = csv.writer(file, delimiter='\\t')\n",
        "    for elem in data:\n",
        "      tsv_writer.writerow(elem)"
      ],
      "execution_count": null,
      "outputs": []
    },
    {
      "cell_type": "code",
      "metadata": {
        "id": "lKq6fE-eJpDA"
      },
      "source": [
        "def tokenizator(seq):\n",
        "    reprezentacja = []\n",
        "    for i in range(len(seq)-2):\n",
        "        reprezentacja.append(seq[i:(i+3)])\n",
        "    return reprezentacja"
      ],
      "execution_count": null,
      "outputs": []
    },
    {
      "cell_type": "code",
      "source": [
        "%pip install torchtext==0.9\n",
        "\n"
      ],
      "metadata": {
        "colab": {
          "base_uri": "https://localhost:8080/"
        },
        "id": "W2qri3Bd_4pY",
        "outputId": "d3309b76-bc26-449b-ec08-49bcd6c5fafe"
      },
      "execution_count": null,
      "outputs": [
        {
          "output_type": "stream",
          "name": "stdout",
          "text": [
            "Looking in indexes: https://pypi.org/simple, https://us-python.pkg.dev/colab-wheels/public/simple/\n",
            "Requirement already satisfied: torchtext==0.9 in /usr/local/lib/python3.8/dist-packages (0.9.0)\n",
            "Requirement already satisfied: torch==1.8.0 in /usr/local/lib/python3.8/dist-packages (from torchtext==0.9) (1.8.0)\n",
            "Requirement already satisfied: numpy in /usr/local/lib/python3.8/dist-packages (from torchtext==0.9) (1.22.4)\n",
            "Requirement already satisfied: tqdm in /usr/local/lib/python3.8/dist-packages (from torchtext==0.9) (4.64.1)\n",
            "Requirement already satisfied: requests in /usr/local/lib/python3.8/dist-packages (from torchtext==0.9) (2.25.1)\n",
            "Requirement already satisfied: typing-extensions in /usr/local/lib/python3.8/dist-packages (from torch==1.8.0->torchtext==0.9) (4.5.0)\n",
            "Requirement already satisfied: chardet<5,>=3.0.2 in /usr/local/lib/python3.8/dist-packages (from requests->torchtext==0.9) (4.0.0)\n",
            "Requirement already satisfied: idna<3,>=2.5 in /usr/local/lib/python3.8/dist-packages (from requests->torchtext==0.9) (2.10)\n",
            "Requirement already satisfied: certifi>=2017.4.17 in /usr/local/lib/python3.8/dist-packages (from requests->torchtext==0.9) (2022.12.7)\n",
            "Requirement already satisfied: urllib3<1.27,>=1.21.1 in /usr/local/lib/python3.8/dist-packages (from requests->torchtext==0.9) (1.26.14)\n",
            "\u001b[31mERROR: Operation cancelled by user\u001b[0m\u001b[31m\n",
            "\u001b[0m"
          ]
        }
      ]
    },
    {
      "cell_type": "code",
      "source": [
        "import torchtext"
      ],
      "metadata": {
        "id": "xDuwconYAYUs"
      },
      "execution_count": null,
      "outputs": []
    },
    {
      "cell_type": "code",
      "metadata": {
        "id": "p81qgcLhKumD"
      },
      "source": [
        "text_field = torchtext.legacy.data.Field(sequential=True,      \n",
        "                                  tokenize=tokenizator, \n",
        "                                  include_lengths=True, \n",
        "                                  batch_first=True,\n",
        "                                  use_vocab=True)      \n",
        "\n",
        "label_field = torchtext.legacy.data.Field(sequential=False,    \n",
        "                                   use_vocab=False,     \n",
        "                                   is_target=True,      \n",
        "                                   batch_first=True,\n",
        "                                   preprocessing=lambda x: int(x == 'e')) \n",
        "\n",
        "fields = [('label', label_field), ('seq', text_field)]\n"
      ],
      "execution_count": null,
      "outputs": []
    },
    {
      "cell_type": "code",
      "metadata": {
        "id": "ULTvbSIXMPMd"
      },
      "source": [
        "train = torchtext.legacy.data.TabularDataset('genes_with_labels.tsv', \"tsv\", fields)"
      ],
      "execution_count": null,
      "outputs": []
    },
    {
      "cell_type": "code",
      "metadata": {
        "id": "qe66T0KALFCr"
      },
      "source": [
        "text_field.build_vocab(train)"
      ],
      "execution_count": null,
      "outputs": []
    },
    {
      "cell_type": "code",
      "source": [
        "torchtext_train_dataloader = torchtext.legacy.data.BucketIterator(train,\n",
        "                                           batch_size=32,\n",
        "                                           sort_key=lambda x: len(x.seq), \n",
        "                                           sort_within_batch=True,        \n",
        "                                           repeat=False)  "
      ],
      "metadata": {
        "id": "a18QI2PyCNph"
      },
      "execution_count": null,
      "outputs": []
    },
    {
      "cell_type": "code",
      "source": [
        "data2 = e_data2[:e_len] + ne_data2[:e_len]"
      ],
      "metadata": {
        "id": "nWRMqHksZDhi"
      },
      "execution_count": null,
      "outputs": []
    },
    {
      "cell_type": "code",
      "source": [
        "with open('genes_with_labels2.tsv', 'wt') as file:\n",
        "    tsv_writer = csv.writer(file, delimiter='\\t')\n",
        "    for elem in data2:\n",
        "      tsv_writer.writerow(elem)"
      ],
      "metadata": {
        "id": "OxWsK2kXZF7L"
      },
      "execution_count": null,
      "outputs": []
    },
    {
      "cell_type": "code",
      "source": [
        "train2 = torchtext.legacy.data.TabularDataset('genes_with_labels2.tsv', \"tsv\", fields)"
      ],
      "metadata": {
        "id": "uqr7raiFZNxf"
      },
      "execution_count": null,
      "outputs": []
    },
    {
      "cell_type": "code",
      "source": [
        "torchtext_train_dataloader2 = torchtext.legacy.data.BucketIterator(train2,\n",
        "                                           batch_size=32,\n",
        "                                           sort_key=lambda x: len(x.seq), \n",
        "                                           sort_within_batch=True,        \n",
        "                                           repeat=False)  "
      ],
      "metadata": {
        "id": "cOsSD4AyZh3-"
      },
      "execution_count": null,
      "outputs": []
    },
    {
      "cell_type": "code",
      "metadata": {
        "id": "Js4efL1Lvxfi"
      },
      "source": [
        "class T_LSTM(nn.Module):\n",
        "    def __init__(self, input_size, hidden_size, num_classes):\n",
        "        super().__init__()\n",
        "        self.hidden_size = hidden_size\n",
        "        self.lstm = nn.LSTM(input_size, hidden_size, batch_first=True) #LSTM\n",
        "        self.fc = nn.Linear(hidden_size, num_classes)  #przeksztalcenie liniowe\n",
        "    \n",
        "    def forward(self, x):\n",
        "        x = x.unsqueeze(2)\n",
        "        x = torch.tensor(x)\n",
        "        x = torch.tensor(x, dtype=torch.float)\n",
        "        h0 = torch.zeros(1, x.size(0), self.hidden_size) #początkowy  h0\n",
        "        c0 = torch.zeros(1, x.size(0), self.hidden_size) #początkowy c0\n",
        "        out, _ = self.lstm(x, (h0, c0))  #LSTM\n",
        "        out = self.fc(out[:, -1, :]) #przeksztlcam jeszcze liniowo ostatni output\n",
        "        return out"
      ],
      "execution_count": null,
      "outputs": []
    },
    {
      "cell_type": "code",
      "metadata": {
        "id": "r-d8WUiKJbSv"
      },
      "source": [
        "lstm_model = T_LSTM(1, 50, 2)"
      ],
      "execution_count": null,
      "outputs": []
    },
    {
      "cell_type": "code",
      "source": [
        "lstm_model.hidden_size"
      ],
      "metadata": {
        "colab": {
          "base_uri": "https://localhost:8080/"
        },
        "id": "PFqj_Tr8KlpP",
        "outputId": "f365402f-edc6-4ef6-c5ff-0c16f8cf3654"
      },
      "execution_count": null,
      "outputs": [
        {
          "output_type": "execute_result",
          "data": {
            "text/plain": [
              "50"
            ]
          },
          "metadata": {},
          "execution_count": 59
        }
      ]
    },
    {
      "cell_type": "code",
      "metadata": {
        "id": "eEbjF0LFvKU3"
      },
      "source": [
        "#Funkcja wyznaczająca dokładność predykcji:\n",
        "\n",
        "def get_accuracy(model, data_loader):\n",
        "    data_loader.create_batches()\n",
        "    correct, total = 0, 0  #ile ok, ile wszystkich\n",
        "\n",
        "    for num, batch in enumerate(data_loader): #przechodzi dane\n",
        "\n",
        "        # Put all example.text of batch in single array.\n",
        "        batch_text = list(batch)[0]\n",
        "        labels = list(batch)[1]\n",
        "        x = torch.tensor(batch_text[0])\n",
        "        output = model(x) #co mowi model\n",
        "        pred = output.max(1, keepdim=True)[1]  #ktora kategoria\n",
        "        #print(pred)\n",
        "        correct += pred.eq(labels.view_as(pred)).sum().item()\n",
        "        #print(correct)\n",
        "        total += labels.shape[0]\n",
        "    return correct / total"
      ],
      "execution_count": null,
      "outputs": []
    },
    {
      "cell_type": "code",
      "metadata": {
        "id": "FzH60eW5vH0g"
      },
      "source": [
        "#funkcja do trenowania modelu\n",
        "\n",
        "def train_model(model, train_loader, valid_loader, num_epochs=5, learning_rate=1e-5):\n",
        "    criterion = nn.CrossEntropyLoss() #funkcja kosztu\n",
        "    optimizer = torch.optim.Adam(model.parameters(), lr=learning_rate) #optymalizator modelu\n",
        "    losses, train_acc, valid_acc, epochs = [], [], [], []  #cztery listy na wartosci funkcji kosztu, dokladnosc na zbiorze testowym i walidacyjnym, numer epoki\n",
        "    \n",
        "    for epoch in tqdm(range(num_epochs)): #przechodz kolejne epoki (iteracje)\n",
        "        \n",
        "        #train_loader.create_batches()\n",
        "        \n",
        "        for num, batch in enumerate(train_loader): #.batches):\n",
        "            \n",
        "            # Put all example.text of batch in single array.\n",
        "            batch_text = list(batch)[0]\n",
        "            batch_label = list(batch)[1]\n",
        "            optimizer.zero_grad()\n",
        "            x = torch.tensor(batch_text[0])\n",
        "            pred = model(x)\n",
        "            loss = criterion(pred, batch_label)  #wartosc funkcji kosztu - porownanie tego co mowi model, a tego jak jest\n",
        "            loss.backward()                  #pochodna po funkcji kosztu\n",
        "            optimizer.step()                 #aktualizacja parametrow\n",
        "\n",
        "            \n",
        "        losses.append(float(loss))           #zapisz aktualną wartosc funkcji kosztu\n",
        "        epochs.append(epoch)                 #zapisz aktualny numer epoki\n",
        "        train_acc.append(get_accuracy(model, torchtext_train_dataloader))   #dokladnosc na zbiorze treningowym\n",
        "        valid_acc.append(get_accuracy(model, torchtext_valid_dataloader))   #dokladnosc na zbiorze walidacyjnym\n",
        "        print(f'Epoch number: {epoch+1} | Loss value: {loss} | Train accuracy: {round(train_acc[-1],3)} | Valid accuracy: {round(valid_acc[-1],3)}')"
      ],
      "execution_count": null,
      "outputs": []
    },
    {
      "cell_type": "code",
      "metadata": {
        "colab": {
          "base_uri": "https://localhost:8080/",
          "height": 503,
          "referenced_widgets": [
            "928f5d5c0cac48ca8be45f60e6c62a6f",
            "3d6ed5ebbafe469db9b08ab1b0295d14",
            "628366852d344c09ae4a283d385cd139",
            "e77bb04567f54151a25a3bedd434f6f4",
            "43233448772b4226b64a2cfe08299385",
            "c280a7b1bbe7474ea094bae5740f8c70",
            "eeb959d96bb24051b6ab1fdb0847a928",
            "98cff38533ae4064b8366c5f97e577ee",
            "22d4d3fab1104b28a5a0484d69ac54bd",
            "bfcc76e7294345bea0a6d24a6f5ede31",
            "ae3493b1b8bf4243883347dd11b3644c"
          ]
        },
        "id": "RJJO2fnWv27I",
        "outputId": "e7dc23af-1d77-46de-b3a0-ec477b6c92c0"
      },
      "source": [
        "train_model(lstm_model, torchtext_train_dataloader, torchtext_valid_dataloader, num_epochs=5, learning_rate=0.0001)"
      ],
      "execution_count": null,
      "outputs": [
        {
          "output_type": "display_data",
          "data": {
            "text/plain": [
              "  0%|          | 0/5 [00:00<?, ?it/s]"
            ],
            "application/vnd.jupyter.widget-view+json": {
              "version_major": 2,
              "version_minor": 0,
              "model_id": "928f5d5c0cac48ca8be45f60e6c62a6f"
            }
          },
          "metadata": {}
        },
        {
          "output_type": "stream",
          "name": "stderr",
          "text": [
            "<ipython-input-20-3b4ea88447e1>:18: UserWarning: To copy construct from a tensor, it is recommended to use sourceTensor.clone().detach() or sourceTensor.clone().detach().requires_grad_(True), rather than torch.tensor(sourceTensor).\n",
            "  x = torch.tensor(batch_text[0])\n",
            "<ipython-input-17-35ede5d7ee8f>:10: UserWarning: To copy construct from a tensor, it is recommended to use sourceTensor.clone().detach() or sourceTensor.clone().detach().requires_grad_(True), rather than torch.tensor(sourceTensor).\n",
            "  x = torch.tensor(x)\n",
            "<ipython-input-17-35ede5d7ee8f>:11: UserWarning: To copy construct from a tensor, it is recommended to use sourceTensor.clone().detach() or sourceTensor.clone().detach().requires_grad_(True), rather than torch.tensor(sourceTensor).\n",
            "  x = torch.tensor(x, dtype=torch.float)\n"
          ]
        },
        {
          "output_type": "error",
          "ename": "KeyboardInterrupt",
          "evalue": "ignored",
          "traceback": [
            "\u001b[0;31m---------------------------------------------------------------------------\u001b[0m",
            "\u001b[0;31mKeyboardInterrupt\u001b[0m                         Traceback (most recent call last)",
            "\u001b[0;32m<ipython-input-21-18960aa1237b>\u001b[0m in \u001b[0;36m<module>\u001b[0;34m\u001b[0m\n\u001b[0;32m----> 1\u001b[0;31m \u001b[0mtrain_model\u001b[0m\u001b[0;34m(\u001b[0m\u001b[0mlstm_model\u001b[0m\u001b[0;34m,\u001b[0m \u001b[0mtorchtext_train_dataloader\u001b[0m\u001b[0;34m,\u001b[0m \u001b[0mtorchtext_valid_dataloader\u001b[0m\u001b[0;34m,\u001b[0m \u001b[0mnum_epochs\u001b[0m\u001b[0;34m=\u001b[0m\u001b[0;36m5\u001b[0m\u001b[0;34m,\u001b[0m \u001b[0mlearning_rate\u001b[0m\u001b[0;34m=\u001b[0m\u001b[0;36m0.0001\u001b[0m\u001b[0;34m)\u001b[0m\u001b[0;34m\u001b[0m\u001b[0;34m\u001b[0m\u001b[0m\n\u001b[0m",
            "\u001b[0;32m<ipython-input-20-3b4ea88447e1>\u001b[0m in \u001b[0;36mtrain_model\u001b[0;34m(model, train_loader, valid_loader, num_epochs, learning_rate)\u001b[0m\n\u001b[1;32m     19\u001b[0m             \u001b[0mpred\u001b[0m \u001b[0;34m=\u001b[0m \u001b[0mmodel\u001b[0m\u001b[0;34m(\u001b[0m\u001b[0mx\u001b[0m\u001b[0;34m)\u001b[0m\u001b[0;34m\u001b[0m\u001b[0;34m\u001b[0m\u001b[0m\n\u001b[1;32m     20\u001b[0m             \u001b[0mloss\u001b[0m \u001b[0;34m=\u001b[0m \u001b[0mcriterion\u001b[0m\u001b[0;34m(\u001b[0m\u001b[0mpred\u001b[0m\u001b[0;34m,\u001b[0m \u001b[0mbatch_label\u001b[0m\u001b[0;34m)\u001b[0m  \u001b[0;31m#wartosc funkcji kosztu - porownanie tego co mowi model, a tego jak jest\u001b[0m\u001b[0;34m\u001b[0m\u001b[0;34m\u001b[0m\u001b[0m\n\u001b[0;32m---> 21\u001b[0;31m             \u001b[0mloss\u001b[0m\u001b[0;34m.\u001b[0m\u001b[0mbackward\u001b[0m\u001b[0;34m(\u001b[0m\u001b[0;34m)\u001b[0m                  \u001b[0;31m#pochodna po funkcji kosztu\u001b[0m\u001b[0;34m\u001b[0m\u001b[0;34m\u001b[0m\u001b[0m\n\u001b[0m\u001b[1;32m     22\u001b[0m             \u001b[0moptimizer\u001b[0m\u001b[0;34m.\u001b[0m\u001b[0mstep\u001b[0m\u001b[0;34m(\u001b[0m\u001b[0;34m)\u001b[0m                 \u001b[0;31m#aktualizacja parametrow\u001b[0m\u001b[0;34m\u001b[0m\u001b[0;34m\u001b[0m\u001b[0m\n\u001b[1;32m     23\u001b[0m \u001b[0;34m\u001b[0m\u001b[0m\n",
            "\u001b[0;32m/usr/local/lib/python3.8/dist-packages/torch/tensor.py\u001b[0m in \u001b[0;36mbackward\u001b[0;34m(self, gradient, retain_graph, create_graph, inputs)\u001b[0m\n\u001b[1;32m    243\u001b[0m                 \u001b[0mcreate_graph\u001b[0m\u001b[0;34m=\u001b[0m\u001b[0mcreate_graph\u001b[0m\u001b[0;34m,\u001b[0m\u001b[0;34m\u001b[0m\u001b[0;34m\u001b[0m\u001b[0m\n\u001b[1;32m    244\u001b[0m                 inputs=inputs)\n\u001b[0;32m--> 245\u001b[0;31m         \u001b[0mtorch\u001b[0m\u001b[0;34m.\u001b[0m\u001b[0mautograd\u001b[0m\u001b[0;34m.\u001b[0m\u001b[0mbackward\u001b[0m\u001b[0;34m(\u001b[0m\u001b[0mself\u001b[0m\u001b[0;34m,\u001b[0m \u001b[0mgradient\u001b[0m\u001b[0;34m,\u001b[0m \u001b[0mretain_graph\u001b[0m\u001b[0;34m,\u001b[0m \u001b[0mcreate_graph\u001b[0m\u001b[0;34m,\u001b[0m \u001b[0minputs\u001b[0m\u001b[0;34m=\u001b[0m\u001b[0minputs\u001b[0m\u001b[0;34m)\u001b[0m\u001b[0;34m\u001b[0m\u001b[0;34m\u001b[0m\u001b[0m\n\u001b[0m\u001b[1;32m    246\u001b[0m \u001b[0;34m\u001b[0m\u001b[0m\n\u001b[1;32m    247\u001b[0m     \u001b[0;32mdef\u001b[0m \u001b[0mregister_hook\u001b[0m\u001b[0;34m(\u001b[0m\u001b[0mself\u001b[0m\u001b[0;34m,\u001b[0m \u001b[0mhook\u001b[0m\u001b[0;34m)\u001b[0m\u001b[0;34m:\u001b[0m\u001b[0;34m\u001b[0m\u001b[0;34m\u001b[0m\u001b[0m\n",
            "\u001b[0;32m/usr/local/lib/python3.8/dist-packages/torch/autograd/__init__.py\u001b[0m in \u001b[0;36mbackward\u001b[0;34m(tensors, grad_tensors, retain_graph, create_graph, grad_variables, inputs)\u001b[0m\n\u001b[1;32m    143\u001b[0m         \u001b[0mretain_graph\u001b[0m \u001b[0;34m=\u001b[0m \u001b[0mcreate_graph\u001b[0m\u001b[0;34m\u001b[0m\u001b[0;34m\u001b[0m\u001b[0m\n\u001b[1;32m    144\u001b[0m \u001b[0;34m\u001b[0m\u001b[0m\n\u001b[0;32m--> 145\u001b[0;31m     Variable._execution_engine.run_backward(\n\u001b[0m\u001b[1;32m    146\u001b[0m         \u001b[0mtensors\u001b[0m\u001b[0;34m,\u001b[0m \u001b[0mgrad_tensors_\u001b[0m\u001b[0;34m,\u001b[0m \u001b[0mretain_graph\u001b[0m\u001b[0;34m,\u001b[0m \u001b[0mcreate_graph\u001b[0m\u001b[0;34m,\u001b[0m \u001b[0minputs\u001b[0m\u001b[0;34m,\u001b[0m\u001b[0;34m\u001b[0m\u001b[0;34m\u001b[0m\u001b[0m\n\u001b[1;32m    147\u001b[0m         allow_unreachable=True, accumulate_grad=True)  # allow_unreachable flag\n",
            "\u001b[0;31mKeyboardInterrupt\u001b[0m: "
          ]
        }
      ]
    },
    {
      "cell_type": "code",
      "source": [
        "import pickle"
      ],
      "metadata": {
        "id": "JmLOp900A59J"
      },
      "execution_count": null,
      "outputs": []
    },
    {
      "cell_type": "code",
      "source": [
        "model = pickle.load(open(\"3nuc_model_batch16_hidden25\", 'rb'))"
      ],
      "metadata": {
        "id": "teocKEblEgzo"
      },
      "execution_count": null,
      "outputs": []
    },
    {
      "cell_type": "code",
      "source": [
        "model"
      ],
      "metadata": {
        "colab": {
          "base_uri": "https://localhost:8080/"
        },
        "id": "axoZjEQjLIYU",
        "outputId": "cbd9ac5d-e60a-47b3-9f32-f6e886496963"
      },
      "execution_count": null,
      "outputs": [
        {
          "output_type": "execute_result",
          "data": {
            "text/plain": [
              "T_LSTM(\n",
              "  (lstm): LSTM(1, 25, batch_first=True)\n",
              "  (fc): Linear(in_features=25, out_features=2, bias=True)\n",
              ")"
            ]
          },
          "metadata": {},
          "execution_count": 79
        }
      ]
    },
    {
      "cell_type": "markdown",
      "source": [
        "Bakterie Gram ujemne"
      ],
      "metadata": {
        "id": "6iwwFUlLYxZ5"
      }
    },
    {
      "cell_type": "code",
      "source": [
        "get_accuracy(model, torchtext_train_dataloader)"
      ],
      "metadata": {
        "colab": {
          "base_uri": "https://localhost:8080/"
        },
        "id": "edRffF8TAx3Z",
        "outputId": "73a8d32a-1b27-49b6-8626-c9cfcb51b2d9"
      },
      "execution_count": null,
      "outputs": [
        {
          "output_type": "stream",
          "name": "stderr",
          "text": [
            "<ipython-input-19-4eb31a9bb85a>:12: UserWarning: To copy construct from a tensor, it is recommended to use sourceTensor.clone().detach() or sourceTensor.clone().detach().requires_grad_(True), rather than torch.tensor(sourceTensor).\n",
            "  x = torch.tensor(batch_text[0])\n",
            "<ipython-input-17-35ede5d7ee8f>:10: UserWarning: To copy construct from a tensor, it is recommended to use sourceTensor.clone().detach() or sourceTensor.clone().detach().requires_grad_(True), rather than torch.tensor(sourceTensor).\n",
            "  x = torch.tensor(x)\n",
            "<ipython-input-17-35ede5d7ee8f>:11: UserWarning: To copy construct from a tensor, it is recommended to use sourceTensor.clone().detach() or sourceTensor.clone().detach().requires_grad_(True), rather than torch.tensor(sourceTensor).\n",
            "  x = torch.tensor(x, dtype=torch.float)\n"
          ]
        },
        {
          "output_type": "execute_result",
          "data": {
            "text/plain": [
              "0.7259030677073879"
            ]
          },
          "metadata": {},
          "execution_count": 80
        }
      ]
    },
    {
      "cell_type": "markdown",
      "source": [
        "Bakterie Gram dodatnie"
      ],
      "metadata": {
        "id": "ml4Oa6vOY5Oy"
      }
    },
    {
      "cell_type": "code",
      "source": [
        "get_accuracy(model, torchtext_train_dataloader2)"
      ],
      "metadata": {
        "colab": {
          "base_uri": "https://localhost:8080/"
        },
        "id": "WMGXfbJGJCq0",
        "outputId": "ed3e025f-869b-4e7f-abc6-fe6dcdf17fc7"
      },
      "execution_count": null,
      "outputs": [
        {
          "output_type": "stream",
          "name": "stderr",
          "text": [
            "<ipython-input-19-4eb31a9bb85a>:12: UserWarning: To copy construct from a tensor, it is recommended to use sourceTensor.clone().detach() or sourceTensor.clone().detach().requires_grad_(True), rather than torch.tensor(sourceTensor).\n",
            "  x = torch.tensor(batch_text[0])\n",
            "<ipython-input-17-35ede5d7ee8f>:10: UserWarning: To copy construct from a tensor, it is recommended to use sourceTensor.clone().detach() or sourceTensor.clone().detach().requires_grad_(True), rather than torch.tensor(sourceTensor).\n",
            "  x = torch.tensor(x)\n",
            "<ipython-input-17-35ede5d7ee8f>:11: UserWarning: To copy construct from a tensor, it is recommended to use sourceTensor.clone().detach() or sourceTensor.clone().detach().requires_grad_(True), rather than torch.tensor(sourceTensor).\n",
            "  x = torch.tensor(x, dtype=torch.float)\n"
          ]
        },
        {
          "output_type": "execute_result",
          "data": {
            "text/plain": [
              "0.7249047013977128"
            ]
          },
          "metadata": {},
          "execution_count": 86
        }
      ]
    },
    {
      "cell_type": "code",
      "source": [],
      "metadata": {
        "id": "NysB3L9JZrb1"
      },
      "execution_count": null,
      "outputs": []
    }
  ]
}